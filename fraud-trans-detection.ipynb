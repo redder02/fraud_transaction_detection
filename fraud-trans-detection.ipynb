{
 "cells": [
  {
   "cell_type": "markdown",
   "id": "3c5e6495",
   "metadata": {
    "papermill": {
     "duration": 0.024469,
     "end_time": "2023-11-26T14:33:21.325151",
     "exception": false,
     "start_time": "2023-11-26T14:33:21.300682",
     "status": "completed"
    },
    "tags": []
   },
   "source": [
    "<a id=\"table\"></a>\n",
    "<h1 style=\"background-color:#0F0F0F;font-family:newtimeroman;font-size:350%;text-align:center;border-radius: 15px 50px;color:#F0F0F0\">Table of Contents</h1>\n",
    "\n",
    "\n",
    "- [Libraries and Dependencies](#1)\n",
    "\n",
    "- [Data Description](#2)\n",
    "\n",
    "- [Data Loading and Preprocessing](#3)\n",
    "\n",
    "- [Exploratory Data Analysis (EDA)](#4)\n",
    "\n",
    "- [Cross Validation Set](#5)\n",
    "  - [Training](#5.1)\n",
    "    - [RandomForestClassifier](#5.1.1)\n",
    "    - [XGBoost](#5.1.2)\n",
    "    - [Light GBM](#5.1.3)\n",
    "    - [DecisionTreeClassifier](#5.1.4)\n",
    "    - [Logistic Regression](#5.1.5)\n",
    "  - [Scores](#5.2)\n",
    "  \n",
    "  \n",
    "- [Model Training](#6)\n",
    "  - [RandomForestClassifier](#6.1)\n",
    "  - [XGBoost](#6.2)\n",
    "  - [Light GBM](#6.3)\n",
    "  - [DecisionTreeClassifier](#6.4)\n",
    "  - [Logistic Regression](#6.5)\n",
    "  \n",
    "- [Predictions](#7)\n",
    "\n",
    "- [Submissions](#8)\n",
    "\n",
    "<a id=\"1\"></a>\n",
    "<h1 style=\"background-color:#0F0F0F;font-family:newtimeroman;font-size:350%;text-align:center;border-radius: 15px 50px;color:#F0F0F0\">Libraries and Dependencies</h1>"
   ]
  },
  {
   "cell_type": "code",
   "execution_count": 1,
   "id": "d76d9ba5",
   "metadata": {
    "execution": {
     "iopub.execute_input": "2023-11-26T14:33:21.375818Z",
     "iopub.status.busy": "2023-11-26T14:33:21.375417Z",
     "iopub.status.idle": "2023-11-26T14:33:25.630355Z",
     "shell.execute_reply": "2023-11-26T14:33:25.629084Z"
    },
    "papermill": {
     "duration": 4.283286,
     "end_time": "2023-11-26T14:33:25.633155",
     "exception": false,
     "start_time": "2023-11-26T14:33:21.349869",
     "status": "completed"
    },
    "tags": []
   },
   "outputs": [],
   "source": [
    "import numpy as np  # linear algebra\n",
    "\n",
    "# Importing methods for preprocessing and data handling\n",
    "import pandas as pd\n",
    "from imblearn.over_sampling import SMOTE\n",
    "from sklearn.metrics import confusion_matrix,accuracy_score,roc_auc_score\n",
    "from sklearn.model_selection import train_test_split\n",
    "\n",
    "# Importing libraries for data visualization\n",
    "import seaborn as sns\n",
    "import matplotlib.pyplot as plt\n",
    "\n",
    "# Importing Models\n",
    "import lightgbm as lgb\n",
    "import xgboost\n",
    "from sklearn.ensemble import RandomForestClassifier\n",
    "from sklearn.tree import DecisionTreeClassifier\n",
    "from sklearn.linear_model import LogisticRegression"
   ]
  },
  {
   "cell_type": "markdown",
   "id": "fe2e8314",
   "metadata": {
    "papermill": {
     "duration": 0.026211,
     "end_time": "2023-11-26T14:33:25.686672",
     "exception": false,
     "start_time": "2023-11-26T14:33:25.660461",
     "status": "completed"
    },
    "tags": []
   },
   "source": [
    "<a id=\"2\"></a>\n",
    "<h1 style=\"background-color:#0F0F0F;font-family:newtimeroman;font-size:350%;text-align:center;border-radius: 15px 50px;color:#F0F0F0\">Data Description</h1>\n"
   ]
  },
  {
   "cell_type": "markdown",
   "id": "f7831d9c",
   "metadata": {
    "papermill": {
     "duration": 0.024991,
     "end_time": "2023-11-26T14:33:25.738366",
     "exception": false,
     "start_time": "2023-11-26T14:33:25.713375",
     "status": "completed"
    },
    "tags": []
   },
   "source": [
    "\n",
    "Columns\n",
    "\n",
    "* **id**: Unique identifier for each entry.\n",
    "* **trans_date_trans_time**: The date and time of the transaction.\n",
    "* **cc_num**: Credit card number.\n",
    "* **merchant**: Merchant receiving payment.\n",
    "* **category**: Area of merchant's business.\n",
    "* **amt**: Amount in American Dollars.\n",
    "* **first**: First name of the cardholder.\n",
    "* **last**: Last name of the cardholder.\n",
    "* **gender**: Gender of the cardholder (Male/Female).\n",
    "* **street**: Street of cardholder's residence.\n",
    "* **city**: City of cardholder's residence.\n",
    "* **state**: State of cardholder's residence.\n",
    "* **zip**: ZIP code of cardholder's residence.\n",
    "* **lat**: Latitude of the cardholder.\n",
    "* **long**: Longitude of the cardholder.\n",
    "* **city_pop**: Population of the city.\n",
    "* **job**: Occupation of the cardholder.\n",
    "* **dob**: Date of birth of the cardholder.\n",
    "* **trans_num**: Transaction ID.\n",
    "* **unix_time**: Unix time (time since 1970).\n",
    "* **merch_lat**: Latitude of the merchant.\n",
    "* **merch_long**: Longitude of the merchant.\n",
    "* **is_fraud**: Binary flag indicating whether the transaction is fraud (1) or not (0)."
   ]
  },
  {
   "cell_type": "markdown",
   "id": "defb8ec2",
   "metadata": {
    "papermill": {
     "duration": 0.024662,
     "end_time": "2023-11-26T14:33:25.788830",
     "exception": false,
     "start_time": "2023-11-26T14:33:25.764168",
     "status": "completed"
    },
    "tags": []
   },
   "source": [
    "<a id=\"3\"></a>\n",
    "<h1 style=\"background-color:#0F0F0F;font-family:newtimeroman;font-size:350%;text-align:center;border-radius: 15px 50px;color:#F0F0F0\">Data Loading and Preprocessing</h1>"
   ]
  },
  {
   "cell_type": "markdown",
   "id": "bc4c40bc",
   "metadata": {
    "papermill": {
     "duration": 0.025676,
     "end_time": "2023-11-26T14:33:25.839796",
     "exception": false,
     "start_time": "2023-11-26T14:33:25.814120",
     "status": "completed"
    },
    "tags": []
   },
   "source": [
    "**Loading Data**"
   ]
  },
  {
   "cell_type": "code",
   "execution_count": 2,
   "id": "712c8a2a",
   "metadata": {
    "_cell_guid": "b1076dfc-b9ad-4769-8c92-a6c4dae69d19",
    "_uuid": "8f2839f25d086af736a60e9eeb907d3b93b6e0e5",
    "execution": {
     "iopub.execute_input": "2023-11-26T14:33:25.891095Z",
     "iopub.status.busy": "2023-11-26T14:33:25.889936Z",
     "iopub.status.idle": "2023-11-26T14:33:38.988007Z",
     "shell.execute_reply": "2023-11-26T14:33:38.986781Z"
    },
    "papermill": {
     "duration": 13.127056,
     "end_time": "2023-11-26T14:33:38.991196",
     "exception": false,
     "start_time": "2023-11-26T14:33:25.864140",
     "status": "completed"
    },
    "tags": []
   },
   "outputs": [],
   "source": [
    "df = pd.read_csv(\"/kaggle/input/anyas-gojo-revival-bondman/trainData.csv\")\n",
    "dftest=pd.read_csv(\"/kaggle/input/anyas-gojo-revival-bondman/testData.csv\")"
   ]
  },
  {
   "cell_type": "markdown",
   "id": "7e9dff78",
   "metadata": {
    "papermill": {
     "duration": 0.093093,
     "end_time": "2023-11-26T14:33:39.111644",
     "exception": false,
     "start_time": "2023-11-26T14:33:39.018551",
     "status": "completed"
    },
    "tags": []
   },
   "source": [
    "**Preprocessing Training Data**"
   ]
  },
  {
   "cell_type": "markdown",
   "id": "237ec6cd",
   "metadata": {
    "papermill": {
     "duration": 0.026882,
     "end_time": "2023-11-26T14:33:39.164211",
     "exception": false,
     "start_time": "2023-11-26T14:33:39.137329",
     "status": "completed"
    },
    "tags": []
   },
   "source": [
    "We will make copy datasets to perform furthur operations"
   ]
  },
  {
   "cell_type": "code",
   "execution_count": 3,
   "id": "0c6bb0b5",
   "metadata": {
    "execution": {
     "iopub.execute_input": "2023-11-26T14:33:39.214820Z",
     "iopub.status.busy": "2023-11-26T14:33:39.214379Z",
     "iopub.status.idle": "2023-11-26T14:33:39.330882Z",
     "shell.execute_reply": "2023-11-26T14:33:39.329693Z"
    },
    "papermill": {
     "duration": 0.145538,
     "end_time": "2023-11-26T14:33:39.333731",
     "exception": false,
     "start_time": "2023-11-26T14:33:39.188193",
     "status": "completed"
    },
    "tags": []
   },
   "outputs": [],
   "source": [
    "dfm = df.copy()\n",
    "dftestf=dftest.copy()"
   ]
  },
  {
   "cell_type": "code",
   "execution_count": 4,
   "id": "3637c190",
   "metadata": {
    "execution": {
     "iopub.execute_input": "2023-11-26T14:33:39.385470Z",
     "iopub.status.busy": "2023-11-26T14:33:39.385037Z",
     "iopub.status.idle": "2023-11-26T14:33:39.394366Z",
     "shell.execute_reply": "2023-11-26T14:33:39.392996Z"
    },
    "papermill": {
     "duration": 0.03748,
     "end_time": "2023-11-26T14:33:39.397078",
     "exception": false,
     "start_time": "2023-11-26T14:33:39.359598",
     "status": "completed"
    },
    "tags": []
   },
   "outputs": [
    {
     "data": {
      "text/plain": [
       "(523174, 23)"
      ]
     },
     "execution_count": 4,
     "metadata": {},
     "output_type": "execute_result"
    }
   ],
   "source": [
    "dfm.shape"
   ]
  },
  {
   "cell_type": "code",
   "execution_count": 5,
   "id": "1962ba9e",
   "metadata": {
    "execution": {
     "iopub.execute_input": "2023-11-26T14:33:39.450019Z",
     "iopub.status.busy": "2023-11-26T14:33:39.449570Z",
     "iopub.status.idle": "2023-11-26T14:33:39.498767Z",
     "shell.execute_reply": "2023-11-26T14:33:39.497385Z"
    },
    "papermill": {
     "duration": 0.079484,
     "end_time": "2023-11-26T14:33:39.502051",
     "exception": false,
     "start_time": "2023-11-26T14:33:39.422567",
     "status": "completed"
    },
    "tags": []
   },
   "outputs": [
    {
     "data": {
      "text/html": [
       "<div>\n",
       "<style scoped>\n",
       "    .dataframe tbody tr th:only-of-type {\n",
       "        vertical-align: middle;\n",
       "    }\n",
       "\n",
       "    .dataframe tbody tr th {\n",
       "        vertical-align: top;\n",
       "    }\n",
       "\n",
       "    .dataframe thead th {\n",
       "        text-align: right;\n",
       "    }\n",
       "</style>\n",
       "<table border=\"1\" class=\"dataframe\">\n",
       "  <thead>\n",
       "    <tr style=\"text-align: right;\">\n",
       "      <th></th>\n",
       "      <th>id</th>\n",
       "      <th>trans_date_trans_time</th>\n",
       "      <th>cc_num</th>\n",
       "      <th>merchant</th>\n",
       "      <th>category</th>\n",
       "      <th>amt</th>\n",
       "      <th>first</th>\n",
       "      <th>last</th>\n",
       "      <th>gender</th>\n",
       "      <th>street</th>\n",
       "      <th>...</th>\n",
       "      <th>lat</th>\n",
       "      <th>long</th>\n",
       "      <th>city_pop</th>\n",
       "      <th>job</th>\n",
       "      <th>dob</th>\n",
       "      <th>trans_num</th>\n",
       "      <th>unix_time</th>\n",
       "      <th>merch_lat</th>\n",
       "      <th>merch_long</th>\n",
       "      <th>is_fraud</th>\n",
       "    </tr>\n",
       "  </thead>\n",
       "  <tbody>\n",
       "    <tr>\n",
       "      <th>0</th>\n",
       "      <td>1</td>\n",
       "      <td>2019-12-15 10:35:10</td>\n",
       "      <td>3597926034019603</td>\n",
       "      <td>fraud_Ruecker Group</td>\n",
       "      <td>misc_net</td>\n",
       "      <td>7.19</td>\n",
       "      <td>Derrick</td>\n",
       "      <td>Flores</td>\n",
       "      <td>M</td>\n",
       "      <td>83690 Nicholas Ports Apt. 846</td>\n",
       "      <td>...</td>\n",
       "      <td>35.2229</td>\n",
       "      <td>-89.5518</td>\n",
       "      <td>9496</td>\n",
       "      <td>Furniture conservator/restorer</td>\n",
       "      <td>1993-03-23</td>\n",
       "      <td>2642fec2e19c9e18e61fe9a88f6bc79a</td>\n",
       "      <td>1355567710</td>\n",
       "      <td>35.189455</td>\n",
       "      <td>-90.121666</td>\n",
       "      <td>0</td>\n",
       "    </tr>\n",
       "    <tr>\n",
       "      <th>1</th>\n",
       "      <td>2</td>\n",
       "      <td>2019-04-10 21:49:53</td>\n",
       "      <td>4873783502705038</td>\n",
       "      <td>fraud_Lynch Ltd</td>\n",
       "      <td>shopping_pos</td>\n",
       "      <td>6.32</td>\n",
       "      <td>Elizabeth</td>\n",
       "      <td>Maxwell</td>\n",
       "      <td>F</td>\n",
       "      <td>194 Goodman Fall Apt. 569</td>\n",
       "      <td>...</td>\n",
       "      <td>48.4786</td>\n",
       "      <td>-122.3345</td>\n",
       "      <td>14871</td>\n",
       "      <td>Public house manager</td>\n",
       "      <td>1974-03-10</td>\n",
       "      <td>61cec15bdbd3db31b12f886e8e181380</td>\n",
       "      <td>1334094593</td>\n",
       "      <td>49.004316</td>\n",
       "      <td>-122.745016</td>\n",
       "      <td>0</td>\n",
       "    </tr>\n",
       "    <tr>\n",
       "      <th>2</th>\n",
       "      <td>3</td>\n",
       "      <td>2020-02-16 10:56:18</td>\n",
       "      <td>213161869125933</td>\n",
       "      <td>fraud_Bauch-Raynor</td>\n",
       "      <td>grocery_pos</td>\n",
       "      <td>147.59</td>\n",
       "      <td>Monica</td>\n",
       "      <td>Lane</td>\n",
       "      <td>F</td>\n",
       "      <td>3270 Scott Islands</td>\n",
       "      <td>...</td>\n",
       "      <td>44.6084</td>\n",
       "      <td>-70.6993</td>\n",
       "      <td>190</td>\n",
       "      <td>Animal nutritionist</td>\n",
       "      <td>1970-04-17</td>\n",
       "      <td>c8fcf575540e37ce0822cd040148ff57</td>\n",
       "      <td>1361012178</td>\n",
       "      <td>44.455449</td>\n",
       "      <td>-70.809148</td>\n",
       "      <td>0</td>\n",
       "    </tr>\n",
       "    <tr>\n",
       "      <th>3</th>\n",
       "      <td>4</td>\n",
       "      <td>2020-04-30 16:14:16</td>\n",
       "      <td>374656033243756</td>\n",
       "      <td>fraud_Effertz, Welch and Schowalter</td>\n",
       "      <td>entertainment</td>\n",
       "      <td>32.40</td>\n",
       "      <td>David</td>\n",
       "      <td>Lewis</td>\n",
       "      <td>M</td>\n",
       "      <td>1499 Michael Rue</td>\n",
       "      <td>...</td>\n",
       "      <td>38.8954</td>\n",
       "      <td>-77.1633</td>\n",
       "      <td>207410</td>\n",
       "      <td>Mudlogger</td>\n",
       "      <td>1984-07-03</td>\n",
       "      <td>9e9cde0e0963ac746a2cc9938e171c9a</td>\n",
       "      <td>1367338456</td>\n",
       "      <td>39.476941</td>\n",
       "      <td>-77.613438</td>\n",
       "      <td>0</td>\n",
       "    </tr>\n",
       "    <tr>\n",
       "      <th>4</th>\n",
       "      <td>5</td>\n",
       "      <td>2019-12-05 21:07:59</td>\n",
       "      <td>6011999606625827</td>\n",
       "      <td>fraud_Wilkinson LLC</td>\n",
       "      <td>personal_care</td>\n",
       "      <td>29.79</td>\n",
       "      <td>Ronald</td>\n",
       "      <td>Carson</td>\n",
       "      <td>M</td>\n",
       "      <td>870 Rocha Drive</td>\n",
       "      <td>...</td>\n",
       "      <td>40.9918</td>\n",
       "      <td>-73.9800</td>\n",
       "      <td>4664</td>\n",
       "      <td>Radiographer, diagnostic</td>\n",
       "      <td>1965-06-30</td>\n",
       "      <td>0742473d7f6261ce366b43ece063faf3</td>\n",
       "      <td>1354741679</td>\n",
       "      <td>40.863808</td>\n",
       "      <td>-74.674018</td>\n",
       "      <td>0</td>\n",
       "    </tr>\n",
       "  </tbody>\n",
       "</table>\n",
       "<p>5 rows × 23 columns</p>\n",
       "</div>"
      ],
      "text/plain": [
       "   id trans_date_trans_time            cc_num  \\\n",
       "0   1   2019-12-15 10:35:10  3597926034019603   \n",
       "1   2   2019-04-10 21:49:53  4873783502705038   \n",
       "2   3   2020-02-16 10:56:18   213161869125933   \n",
       "3   4   2020-04-30 16:14:16   374656033243756   \n",
       "4   5   2019-12-05 21:07:59  6011999606625827   \n",
       "\n",
       "                              merchant       category     amt      first  \\\n",
       "0                  fraud_Ruecker Group       misc_net    7.19    Derrick   \n",
       "1                      fraud_Lynch Ltd   shopping_pos    6.32  Elizabeth   \n",
       "2                   fraud_Bauch-Raynor    grocery_pos  147.59     Monica   \n",
       "3  fraud_Effertz, Welch and Schowalter  entertainment   32.40      David   \n",
       "4                  fraud_Wilkinson LLC  personal_care   29.79     Ronald   \n",
       "\n",
       "      last gender                         street  ...      lat      long  \\\n",
       "0   Flores      M  83690 Nicholas Ports Apt. 846  ...  35.2229  -89.5518   \n",
       "1  Maxwell      F      194 Goodman Fall Apt. 569  ...  48.4786 -122.3345   \n",
       "2     Lane      F             3270 Scott Islands  ...  44.6084  -70.6993   \n",
       "3    Lewis      M               1499 Michael Rue  ...  38.8954  -77.1633   \n",
       "4   Carson      M                870 Rocha Drive  ...  40.9918  -73.9800   \n",
       "\n",
       "   city_pop                             job         dob  \\\n",
       "0      9496  Furniture conservator/restorer  1993-03-23   \n",
       "1     14871            Public house manager  1974-03-10   \n",
       "2       190             Animal nutritionist  1970-04-17   \n",
       "3    207410                       Mudlogger  1984-07-03   \n",
       "4      4664        Radiographer, diagnostic  1965-06-30   \n",
       "\n",
       "                          trans_num   unix_time  merch_lat  merch_long  \\\n",
       "0  2642fec2e19c9e18e61fe9a88f6bc79a  1355567710  35.189455  -90.121666   \n",
       "1  61cec15bdbd3db31b12f886e8e181380  1334094593  49.004316 -122.745016   \n",
       "2  c8fcf575540e37ce0822cd040148ff57  1361012178  44.455449  -70.809148   \n",
       "3  9e9cde0e0963ac746a2cc9938e171c9a  1367338456  39.476941  -77.613438   \n",
       "4  0742473d7f6261ce366b43ece063faf3  1354741679  40.863808  -74.674018   \n",
       "\n",
       "   is_fraud  \n",
       "0         0  \n",
       "1         0  \n",
       "2         0  \n",
       "3         0  \n",
       "4         0  \n",
       "\n",
       "[5 rows x 23 columns]"
      ]
     },
     "execution_count": 5,
     "metadata": {},
     "output_type": "execute_result"
    }
   ],
   "source": [
    "dfm.head()"
   ]
  },
  {
   "cell_type": "code",
   "execution_count": 6,
   "id": "5df050bf",
   "metadata": {
    "execution": {
     "iopub.execute_input": "2023-11-26T14:33:39.559631Z",
     "iopub.status.busy": "2023-11-26T14:33:39.559148Z",
     "iopub.status.idle": "2023-11-26T14:33:40.245301Z",
     "shell.execute_reply": "2023-11-26T14:33:40.244382Z"
    },
    "papermill": {
     "duration": 0.718119,
     "end_time": "2023-11-26T14:33:40.249018",
     "exception": false,
     "start_time": "2023-11-26T14:33:39.530899",
     "status": "completed"
    },
    "tags": []
   },
   "outputs": [
    {
     "name": "stdout",
     "output_type": "stream",
     "text": [
      "<class 'pandas.core.frame.DataFrame'>\n",
      "RangeIndex: 523174 entries, 0 to 523173\n",
      "Data columns (total 23 columns):\n",
      " #   Column                 Non-Null Count   Dtype  \n",
      "---  ------                 --------------   -----  \n",
      " 0   id                     523174 non-null  int64  \n",
      " 1   trans_date_trans_time  523174 non-null  object \n",
      " 2   cc_num                 523174 non-null  int64  \n",
      " 3   merchant               523174 non-null  object \n",
      " 4   category               523174 non-null  object \n",
      " 5   amt                    523174 non-null  float64\n",
      " 6   first                  523174 non-null  object \n",
      " 7   last                   523174 non-null  object \n",
      " 8   gender                 523174 non-null  object \n",
      " 9   street                 523174 non-null  object \n",
      " 10  city                   523174 non-null  object \n",
      " 11  state                  523174 non-null  object \n",
      " 12  zip                    523174 non-null  int64  \n",
      " 13  lat                    523174 non-null  float64\n",
      " 14  long                   523174 non-null  float64\n",
      " 15  city_pop               523174 non-null  int64  \n",
      " 16  job                    523174 non-null  object \n",
      " 17  dob                    523174 non-null  object \n",
      " 18  trans_num              523174 non-null  object \n",
      " 19  unix_time              523174 non-null  int64  \n",
      " 20  merch_lat              523174 non-null  float64\n",
      " 21  merch_long             523174 non-null  float64\n",
      " 22  is_fraud               523174 non-null  int64  \n",
      "dtypes: float64(5), int64(6), object(12)\n",
      "memory usage: 91.8+ MB\n"
     ]
    }
   ],
   "source": [
    "dfm.info()"
   ]
  },
  {
   "cell_type": "code",
   "execution_count": 7,
   "id": "e41bb19c",
   "metadata": {
    "execution": {
     "iopub.execute_input": "2023-11-26T14:33:40.304574Z",
     "iopub.status.busy": "2023-11-26T14:33:40.304121Z",
     "iopub.status.idle": "2023-11-26T14:33:40.969994Z",
     "shell.execute_reply": "2023-11-26T14:33:40.968294Z"
    },
    "papermill": {
     "duration": 0.696327,
     "end_time": "2023-11-26T14:33:40.973213",
     "exception": false,
     "start_time": "2023-11-26T14:33:40.276886",
     "status": "completed"
    },
    "tags": []
   },
   "outputs": [
    {
     "name": "stdout",
     "output_type": "stream",
     "text": [
      "Null entries in the entire DataFrame:\n",
      "id                       0\n",
      "trans_date_trans_time    0\n",
      "cc_num                   0\n",
      "merchant                 0\n",
      "category                 0\n",
      "amt                      0\n",
      "first                    0\n",
      "last                     0\n",
      "gender                   0\n",
      "street                   0\n",
      "city                     0\n",
      "state                    0\n",
      "zip                      0\n",
      "lat                      0\n",
      "long                     0\n",
      "city_pop                 0\n",
      "job                      0\n",
      "dob                      0\n",
      "trans_num                0\n",
      "unix_time                0\n",
      "merch_lat                0\n",
      "merch_long               0\n",
      "is_fraud                 0\n",
      "dtype: int64\n"
     ]
    }
   ],
   "source": [
    "null_entries = dfm.isnull().sum()\n",
    "print(\"Null entries in the entire DataFrame:\")\n",
    "print(null_entries)"
   ]
  },
  {
   "cell_type": "markdown",
   "id": "cd47b2dc",
   "metadata": {
    "papermill": {
     "duration": 0.024517,
     "end_time": "2023-11-26T14:33:41.022700",
     "exception": false,
     "start_time": "2023-11-26T14:33:40.998183",
     "status": "completed"
    },
    "tags": []
   },
   "source": [
    "There are no null values in the train dataset\n"
   ]
  },
  {
   "cell_type": "code",
   "execution_count": 8,
   "id": "45998eca",
   "metadata": {
    "execution": {
     "iopub.execute_input": "2023-11-26T14:33:41.077172Z",
     "iopub.status.busy": "2023-11-26T14:33:41.076002Z",
     "iopub.status.idle": "2023-11-26T14:33:41.346386Z",
     "shell.execute_reply": "2023-11-26T14:33:41.345196Z"
    },
    "papermill": {
     "duration": 0.300728,
     "end_time": "2023-11-26T14:33:41.349067",
     "exception": false,
     "start_time": "2023-11-26T14:33:41.048339",
     "status": "completed"
    },
    "tags": []
   },
   "outputs": [
    {
     "data": {
      "text/html": [
       "<div>\n",
       "<style scoped>\n",
       "    .dataframe tbody tr th:only-of-type {\n",
       "        vertical-align: middle;\n",
       "    }\n",
       "\n",
       "    .dataframe tbody tr th {\n",
       "        vertical-align: top;\n",
       "    }\n",
       "\n",
       "    .dataframe thead th {\n",
       "        text-align: right;\n",
       "    }\n",
       "</style>\n",
       "<table border=\"1\" class=\"dataframe\">\n",
       "  <thead>\n",
       "    <tr style=\"text-align: right;\">\n",
       "      <th></th>\n",
       "      <th>id</th>\n",
       "      <th>cc_num</th>\n",
       "      <th>amt</th>\n",
       "      <th>zip</th>\n",
       "      <th>lat</th>\n",
       "      <th>long</th>\n",
       "      <th>city_pop</th>\n",
       "      <th>unix_time</th>\n",
       "      <th>merch_lat</th>\n",
       "      <th>merch_long</th>\n",
       "      <th>is_fraud</th>\n",
       "    </tr>\n",
       "  </thead>\n",
       "  <tbody>\n",
       "    <tr>\n",
       "      <th>count</th>\n",
       "      <td>523174.000000</td>\n",
       "      <td>5.231740e+05</td>\n",
       "      <td>523174.000000</td>\n",
       "      <td>523174.000000</td>\n",
       "      <td>523174.000000</td>\n",
       "      <td>523174.000000</td>\n",
       "      <td>5.231740e+05</td>\n",
       "      <td>5.231740e+05</td>\n",
       "      <td>523174.000000</td>\n",
       "      <td>523174.000000</td>\n",
       "      <td>523174.000000</td>\n",
       "    </tr>\n",
       "    <tr>\n",
       "      <th>mean</th>\n",
       "      <td>261587.500000</td>\n",
       "      <td>4.179945e+17</td>\n",
       "      <td>74.126999</td>\n",
       "      <td>48778.123106</td>\n",
       "      <td>38.545987</td>\n",
       "      <td>-90.222333</td>\n",
       "      <td>8.851568e+04</td>\n",
       "      <td>1.349238e+09</td>\n",
       "      <td>38.546871</td>\n",
       "      <td>-90.222705</td>\n",
       "      <td>0.014347</td>\n",
       "    </tr>\n",
       "    <tr>\n",
       "      <th>std</th>\n",
       "      <td>151027.469204</td>\n",
       "      <td>1.309874e+18</td>\n",
       "      <td>164.627380</td>\n",
       "      <td>26915.789078</td>\n",
       "      <td>5.072909</td>\n",
       "      <td>13.774292</td>\n",
       "      <td>3.007854e+05</td>\n",
       "      <td>1.285058e+07</td>\n",
       "      <td>5.106024</td>\n",
       "      <td>13.786031</td>\n",
       "      <td>0.118917</td>\n",
       "    </tr>\n",
       "    <tr>\n",
       "      <th>min</th>\n",
       "      <td>1.000000</td>\n",
       "      <td>6.041621e+10</td>\n",
       "      <td>1.000000</td>\n",
       "      <td>1257.000000</td>\n",
       "      <td>20.027100</td>\n",
       "      <td>-165.672300</td>\n",
       "      <td>2.300000e+01</td>\n",
       "      <td>1.325376e+09</td>\n",
       "      <td>19.032277</td>\n",
       "      <td>-166.664828</td>\n",
       "      <td>0.000000</td>\n",
       "    </tr>\n",
       "    <tr>\n",
       "      <th>25%</th>\n",
       "      <td>130794.250000</td>\n",
       "      <td>1.800429e+14</td>\n",
       "      <td>9.700000</td>\n",
       "      <td>26041.000000</td>\n",
       "      <td>34.668900</td>\n",
       "      <td>-96.798000</td>\n",
       "      <td>7.430000e+02</td>\n",
       "      <td>1.338738e+09</td>\n",
       "      <td>34.751576</td>\n",
       "      <td>-96.901801</td>\n",
       "      <td>0.000000</td>\n",
       "    </tr>\n",
       "    <tr>\n",
       "      <th>50%</th>\n",
       "      <td>261587.500000</td>\n",
       "      <td>3.521417e+15</td>\n",
       "      <td>47.680000</td>\n",
       "      <td>48154.000000</td>\n",
       "      <td>39.371600</td>\n",
       "      <td>-87.461600</td>\n",
       "      <td>2.456000e+03</td>\n",
       "      <td>1.349243e+09</td>\n",
       "      <td>39.372253</td>\n",
       "      <td>-87.426508</td>\n",
       "      <td>0.000000</td>\n",
       "    </tr>\n",
       "    <tr>\n",
       "      <th>75%</th>\n",
       "      <td>392380.750000</td>\n",
       "      <td>4.642255e+15</td>\n",
       "      <td>83.870000</td>\n",
       "      <td>72042.000000</td>\n",
       "      <td>41.940400</td>\n",
       "      <td>-80.158000</td>\n",
       "      <td>2.032800e+04</td>\n",
       "      <td>1.359389e+09</td>\n",
       "      <td>41.958544</td>\n",
       "      <td>-80.219874</td>\n",
       "      <td>0.000000</td>\n",
       "    </tr>\n",
       "    <tr>\n",
       "      <th>max</th>\n",
       "      <td>523174.000000</td>\n",
       "      <td>4.992346e+18</td>\n",
       "      <td>15047.030000</td>\n",
       "      <td>99783.000000</td>\n",
       "      <td>66.693300</td>\n",
       "      <td>-67.950300</td>\n",
       "      <td>2.906700e+06</td>\n",
       "      <td>1.371817e+09</td>\n",
       "      <td>67.510267</td>\n",
       "      <td>-66.950902</td>\n",
       "      <td>1.000000</td>\n",
       "    </tr>\n",
       "  </tbody>\n",
       "</table>\n",
       "</div>"
      ],
      "text/plain": [
       "                  id        cc_num            amt            zip  \\\n",
       "count  523174.000000  5.231740e+05  523174.000000  523174.000000   \n",
       "mean   261587.500000  4.179945e+17      74.126999   48778.123106   \n",
       "std    151027.469204  1.309874e+18     164.627380   26915.789078   \n",
       "min         1.000000  6.041621e+10       1.000000    1257.000000   \n",
       "25%    130794.250000  1.800429e+14       9.700000   26041.000000   \n",
       "50%    261587.500000  3.521417e+15      47.680000   48154.000000   \n",
       "75%    392380.750000  4.642255e+15      83.870000   72042.000000   \n",
       "max    523174.000000  4.992346e+18   15047.030000   99783.000000   \n",
       "\n",
       "                 lat           long      city_pop     unix_time  \\\n",
       "count  523174.000000  523174.000000  5.231740e+05  5.231740e+05   \n",
       "mean       38.545987     -90.222333  8.851568e+04  1.349238e+09   \n",
       "std         5.072909      13.774292  3.007854e+05  1.285058e+07   \n",
       "min        20.027100    -165.672300  2.300000e+01  1.325376e+09   \n",
       "25%        34.668900     -96.798000  7.430000e+02  1.338738e+09   \n",
       "50%        39.371600     -87.461600  2.456000e+03  1.349243e+09   \n",
       "75%        41.940400     -80.158000  2.032800e+04  1.359389e+09   \n",
       "max        66.693300     -67.950300  2.906700e+06  1.371817e+09   \n",
       "\n",
       "           merch_lat     merch_long       is_fraud  \n",
       "count  523174.000000  523174.000000  523174.000000  \n",
       "mean       38.546871     -90.222705       0.014347  \n",
       "std         5.106024      13.786031       0.118917  \n",
       "min        19.032277    -166.664828       0.000000  \n",
       "25%        34.751576     -96.901801       0.000000  \n",
       "50%        39.372253     -87.426508       0.000000  \n",
       "75%        41.958544     -80.219874       0.000000  \n",
       "max        67.510267     -66.950902       1.000000  "
      ]
     },
     "execution_count": 8,
     "metadata": {},
     "output_type": "execute_result"
    }
   ],
   "source": [
    "dfm.describe()"
   ]
  },
  {
   "cell_type": "code",
   "execution_count": 9,
   "id": "595702e3",
   "metadata": {
    "execution": {
     "iopub.execute_input": "2023-11-26T14:33:41.404302Z",
     "iopub.status.busy": "2023-11-26T14:33:41.403159Z",
     "iopub.status.idle": "2023-11-26T14:33:41.411110Z",
     "shell.execute_reply": "2023-11-26T14:33:41.409938Z"
    },
    "papermill": {
     "duration": 0.038129,
     "end_time": "2023-11-26T14:33:41.413517",
     "exception": false,
     "start_time": "2023-11-26T14:33:41.375388",
     "status": "completed"
    },
    "tags": []
   },
   "outputs": [
    {
     "data": {
      "text/plain": [
       "Index(['id', 'trans_date_trans_time', 'cc_num', 'merchant', 'category', 'amt',\n",
       "       'first', 'last', 'gender', 'street', 'city', 'state', 'zip', 'lat',\n",
       "       'long', 'city_pop', 'job', 'dob', 'trans_num', 'unix_time', 'merch_lat',\n",
       "       'merch_long', 'is_fraud'],\n",
       "      dtype='object')"
      ]
     },
     "execution_count": 9,
     "metadata": {},
     "output_type": "execute_result"
    }
   ],
   "source": [
    "dfm.columns"
   ]
  },
  {
   "cell_type": "markdown",
   "id": "3f5449e6",
   "metadata": {
    "papermill": {
     "duration": 0.026389,
     "end_time": "2023-11-26T14:33:41.466174",
     "exception": false,
     "start_time": "2023-11-26T14:33:41.439785",
     "status": "completed"
    },
    "tags": []
   },
   "source": [
    "<a id=\"4\"></a>\n",
    "<h1 style=\"background-color:#0F0F0F;font-family:newtimeroman;font-size:350%;text-align:center;border-radius: 15px 50px;color:#F0F0F0\">Exploratory Data Analysis</h1>"
   ]
  },
  {
   "cell_type": "markdown",
   "id": "5e02a042",
   "metadata": {
    "papermill": {
     "duration": 0.02719,
     "end_time": "2023-11-26T14:33:41.519934",
     "exception": false,
     "start_time": "2023-11-26T14:33:41.492744",
     "status": "completed"
    },
    "tags": []
   },
   "source": [
    "Using a single 'name' column is more beneficial from a feature engineering perspective than having separate 'first name' and 'last name' columns.\n",
    "\n"
   ]
  },
  {
   "cell_type": "code",
   "execution_count": 10,
   "id": "ee7f45ed",
   "metadata": {
    "execution": {
     "iopub.execute_input": "2023-11-26T14:33:41.573918Z",
     "iopub.status.busy": "2023-11-26T14:33:41.573451Z",
     "iopub.status.idle": "2023-11-26T14:33:41.740991Z",
     "shell.execute_reply": "2023-11-26T14:33:41.739683Z"
    },
    "papermill": {
     "duration": 0.198785,
     "end_time": "2023-11-26T14:33:41.744228",
     "exception": false,
     "start_time": "2023-11-26T14:33:41.545443",
     "status": "completed"
    },
    "tags": []
   },
   "outputs": [],
   "source": [
    "dfm['name'] = dfm['first'] + ' ' + dfm['last']"
   ]
  },
  {
   "cell_type": "markdown",
   "id": "7fe1ede7",
   "metadata": {
    "execution": {
     "iopub.execute_input": "2023-11-13T21:04:55.396038Z",
     "iopub.status.busy": "2023-11-13T21:04:55.395642Z",
     "iopub.status.idle": "2023-11-13T21:04:55.404384Z",
     "shell.execute_reply": "2023-11-13T21:04:55.402358Z",
     "shell.execute_reply.started": "2023-11-13T21:04:55.396008Z"
    },
    "papermill": {
     "duration": 0.025683,
     "end_time": "2023-11-26T14:33:41.796890",
     "exception": false,
     "start_time": "2023-11-26T14:33:41.771207",
     "status": "completed"
    },
    "tags": []
   },
   "source": [
    "I am removing the 'trans_num' column from the dataset since it contains entirely unique values, making it an unsuitable parameter for training."
   ]
  },
  {
   "cell_type": "markdown",
   "id": "007f175b",
   "metadata": {
    "papermill": {
     "duration": 0.027411,
     "end_time": "2023-11-26T14:33:41.851388",
     "exception": false,
     "start_time": "2023-11-26T14:33:41.823977",
     "status": "completed"
    },
    "tags": []
   },
   "source": [
    "'first' & 'last' colums are dropped since I have included complete name in 'name' column."
   ]
  },
  {
   "cell_type": "code",
   "execution_count": 11,
   "id": "b7adc422",
   "metadata": {
    "execution": {
     "iopub.execute_input": "2023-11-26T14:33:41.906059Z",
     "iopub.status.busy": "2023-11-26T14:33:41.905657Z",
     "iopub.status.idle": "2023-11-26T14:33:41.996146Z",
     "shell.execute_reply": "2023-11-26T14:33:41.994707Z"
    },
    "papermill": {
     "duration": 0.120847,
     "end_time": "2023-11-26T14:33:41.999204",
     "exception": false,
     "start_time": "2023-11-26T14:33:41.878357",
     "status": "completed"
    },
    "tags": []
   },
   "outputs": [],
   "source": [
    "dfm = dfm.drop(['trans_num','first', 'last'], axis=1)"
   ]
  },
  {
   "cell_type": "code",
   "execution_count": 12,
   "id": "635e7f46",
   "metadata": {
    "execution": {
     "iopub.execute_input": "2023-11-26T14:33:42.055310Z",
     "iopub.status.busy": "2023-11-26T14:33:42.054847Z",
     "iopub.status.idle": "2023-11-26T14:33:42.070912Z",
     "shell.execute_reply": "2023-11-26T14:33:42.069432Z"
    },
    "papermill": {
     "duration": 0.047481,
     "end_time": "2023-11-26T14:33:42.074097",
     "exception": false,
     "start_time": "2023-11-26T14:33:42.026616",
     "status": "completed"
    },
    "tags": []
   },
   "outputs": [
    {
     "data": {
      "text/plain": [
       "is_fraud\n",
       "0    0.985653\n",
       "1    0.014347\n",
       "Name: proportion, dtype: float64"
      ]
     },
     "execution_count": 12,
     "metadata": {},
     "output_type": "execute_result"
    }
   ],
   "source": [
    "dfm['is_fraud'].value_counts(normalize=True)"
   ]
  },
  {
   "cell_type": "markdown",
   "id": "7f3e8067",
   "metadata": {
    "papermill": {
     "duration": 0.025363,
     "end_time": "2023-11-26T14:33:42.126343",
     "exception": false,
     "start_time": "2023-11-26T14:33:42.100980",
     "status": "completed"
    },
    "tags": []
   },
   "source": [
    "Approximately out of every 69 transactions 1 is fraud.\n",
    "\n"
   ]
  },
  {
   "cell_type": "code",
   "execution_count": 13,
   "id": "6e8f4170",
   "metadata": {
    "execution": {
     "iopub.execute_input": "2023-11-26T14:33:42.181904Z",
     "iopub.status.busy": "2023-11-26T14:33:42.181450Z",
     "iopub.status.idle": "2023-11-26T14:33:42.218310Z",
     "shell.execute_reply": "2023-11-26T14:33:42.217456Z"
    },
    "papermill": {
     "duration": 0.068735,
     "end_time": "2023-11-26T14:33:42.220690",
     "exception": false,
     "start_time": "2023-11-26T14:33:42.151955",
     "status": "completed"
    },
    "tags": []
   },
   "outputs": [
    {
     "data": {
      "text/plain": [
       "amt\n",
       "1.05      231\n",
       "1.04      231\n",
       "1.11      227\n",
       "1.12      225\n",
       "1.14      220\n",
       "         ... \n",
       "521.31      1\n",
       "382.69      1\n",
       "755.85      1\n",
       "981.96      1\n",
       "304.90      1\n",
       "Name: count, Length: 39741, dtype: int64"
      ]
     },
     "execution_count": 13,
     "metadata": {},
     "output_type": "execute_result"
    }
   ],
   "source": [
    "dfm['amt'].value_counts()\n",
    "#amtcount=dfm['amt'].value_counts()\n",
    "#pd.set_option('display.max_rows', None)  \n",
    "#print(amtcount)"
   ]
  },
  {
   "cell_type": "markdown",
   "id": "6019f30c",
   "metadata": {
    "papermill": {
     "duration": 0.027991,
     "end_time": "2023-11-26T14:33:42.275954",
     "exception": false,
     "start_time": "2023-11-26T14:33:42.247963",
     "status": "completed"
    },
    "tags": []
   },
   "source": [
    "The 'amt' column seems skewed. We will furthur check it through distplot"
   ]
  },
  {
   "cell_type": "code",
   "execution_count": 14,
   "id": "ab8f35bc",
   "metadata": {
    "execution": {
     "iopub.execute_input": "2023-11-26T14:33:42.333553Z",
     "iopub.status.busy": "2023-11-26T14:33:42.332881Z",
     "iopub.status.idle": "2023-11-26T14:33:44.958341Z",
     "shell.execute_reply": "2023-11-26T14:33:44.957052Z"
    },
    "papermill": {
     "duration": 2.657976,
     "end_time": "2023-11-26T14:33:44.961129",
     "exception": false,
     "start_time": "2023-11-26T14:33:42.303153",
     "status": "completed"
    },
    "tags": []
   },
   "outputs": [
    {
     "name": "stderr",
     "output_type": "stream",
     "text": [
      "/tmp/ipykernel_19/734007364.py:1: UserWarning: \n",
      "\n",
      "`distplot` is a deprecated function and will be removed in seaborn v0.14.0.\n",
      "\n",
      "Please adapt your code to use either `displot` (a figure-level function with\n",
      "similar flexibility) or `histplot` (an axes-level function for histograms).\n",
      "\n",
      "For a guide to updating your code to use the new functions, please see\n",
      "https://gist.github.com/mwaskom/de44147ed2974457ad6372750bbe5751\n",
      "\n",
      "  sns.distplot(dfm['amt'])\n"
     ]
    },
    {
     "data": {
      "image/png": "[encoded data removed]",
      "text/plain": [
       "<Figure size 640x480 with 1 Axes>"
      ]
     },
     "metadata": {},
     "output_type": "display_data"
    }
   ],
   "source": [
    "sns.distplot(dfm['amt'])\n",
    "plt.title(\"Distribution of 'amt' Column\")\n",
    "plt.show()"
   ]
  },
  {
   "cell_type": "markdown",
   "id": "8eacc870",
   "metadata": {
    "execution": {
     "iopub.execute_input": "2023-11-13T21:10:41.283927Z",
     "iopub.status.busy": "2023-11-13T21:10:41.283528Z",
     "iopub.status.idle": "2023-11-13T21:10:41.290841Z",
     "shell.execute_reply": "2023-11-13T21:10:41.289467Z",
     "shell.execute_reply.started": "2023-11-13T21:10:41.283897Z"
    },
    "papermill": {
     "duration": 0.027705,
     "end_time": "2023-11-26T14:33:45.016781",
     "exception": false,
     "start_time": "2023-11-26T14:33:44.989076",
     "status": "completed"
    },
    "tags": []
   },
   "source": [
    "It is highly skewed so we need to tranform it"
   ]
  },
  {
   "cell_type": "code",
   "execution_count": 15,
   "id": "9a3506ab",
   "metadata": {
    "execution": {
     "iopub.execute_input": "2023-11-26T14:33:45.073489Z",
     "iopub.status.busy": "2023-11-26T14:33:45.072978Z",
     "iopub.status.idle": "2023-11-26T14:33:45.089523Z",
     "shell.execute_reply": "2023-11-26T14:33:45.088239Z"
    },
    "papermill": {
     "duration": 0.048302,
     "end_time": "2023-11-26T14:33:45.092476",
     "exception": false,
     "start_time": "2023-11-26T14:33:45.044174",
     "status": "completed"
    },
    "tags": []
   },
   "outputs": [],
   "source": [
    "dfm['amt'] = np.log1p(dfm['amt'])"
   ]
  },
  {
   "cell_type": "code",
   "execution_count": 16,
   "id": "37f0daac",
   "metadata": {
    "execution": {
     "iopub.execute_input": "2023-11-26T14:33:45.149979Z",
     "iopub.status.busy": "2023-11-26T14:33:45.148763Z",
     "iopub.status.idle": "2023-11-26T14:33:47.982258Z",
     "shell.execute_reply": "2023-11-26T14:33:47.980526Z"
    },
    "papermill": {
     "duration": 2.865198,
     "end_time": "2023-11-26T14:33:47.985572",
     "exception": false,
     "start_time": "2023-11-26T14:33:45.120374",
     "status": "completed"
    },
    "tags": []
   },
   "outputs": [
    {
     "name": "stderr",
     "output_type": "stream",
     "text": [
      "/tmp/ipykernel_19/2435525417.py:1: UserWarning: \n",
      "\n",
      "`distplot` is a deprecated function and will be removed in seaborn v0.14.0.\n",
      "\n",
      "Please adapt your code to use either `displot` (a figure-level function with\n",
      "similar flexibility) or `histplot` (an axes-level function for histograms).\n",
      "\n",
      "For a guide to updating your code to use the new functions, please see\n",
      "https://gist.github.com/mwaskom/de44147ed2974457ad6372750bbe5751\n",
      "\n",
      "  sns.distplot(dfm['amt'])\n"
     ]
    },
    {
     "data": {
      "image/png": "[encoded data removed]",
      "text/plain": [
       "<Figure size 640x480 with 1 Axes>"
      ]
     },
     "metadata": {},
     "output_type": "display_data"
    }
   ],
   "source": [
    "sns.distplot(dfm['amt'])\n",
    "plt.title(\"Distribution of 'amt' Column after log transform\")\n",
    "plt.show()"
   ]
  },
  {
   "cell_type": "code",
   "execution_count": 17,
   "id": "1ed6b2e0",
   "metadata": {
    "execution": {
     "iopub.execute_input": "2023-11-26T14:33:48.050902Z",
     "iopub.status.busy": "2023-11-26T14:33:48.049778Z",
     "iopub.status.idle": "2023-11-26T14:33:48.125672Z",
     "shell.execute_reply": "2023-11-26T14:33:48.124133Z"
    },
    "papermill": {
     "duration": 0.11103,
     "end_time": "2023-11-26T14:33:48.128554",
     "exception": false,
     "start_time": "2023-11-26T14:33:48.017524",
     "status": "completed"
    },
    "tags": []
   },
   "outputs": [
    {
     "data": {
      "text/plain": [
       "gender\n",
       "F    0.546667\n",
       "M    0.453333\n",
       "Name: proportion, dtype: float64"
      ]
     },
     "execution_count": 17,
     "metadata": {},
     "output_type": "execute_result"
    }
   ],
   "source": [
    "dfm[\"gender\"].value_counts(normalize=True) #normalize=true returns the relative frequencies of each unique value"
   ]
  },
  {
   "cell_type": "code",
   "execution_count": 18,
   "id": "d8a153cd",
   "metadata": {
    "execution": {
     "iopub.execute_input": "2023-11-26T14:33:48.187705Z",
     "iopub.status.busy": "2023-11-26T14:33:48.187293Z",
     "iopub.status.idle": "2023-11-26T14:33:49.602678Z",
     "shell.execute_reply": "2023-11-26T14:33:49.601475Z"
    },
    "papermill": {
     "duration": 1.449827,
     "end_time": "2023-11-26T14:33:49.605773",
     "exception": false,
     "start_time": "2023-11-26T14:33:48.155946",
     "status": "completed"
    },
    "tags": []
   },
   "outputs": [
    {
     "data": {
      "image/png": "[encoded data removed]",
      "text/plain": [
       "<Figure size 500x500 with 1 Axes>"
      ]
     },
     "metadata": {},
     "output_type": "display_data"
    }
   ],
   "source": [
    "plt.figure(figsize=(5,5))\n",
    "ax = sns.histplot(x='gender', data=dfm, hue='is_fraud', stat='percent', multiple='dodge', common_norm=False)\n",
    "#dodge helps us create distinct bars for each category within the 'gender' variable\n",
    "ax.set_ylabel('Percentage')\n",
    "ax.set_xlabel('Credit Card Holder Gender')\n",
    "plt.legend(title='Type', labels=['Not Fraud', 'Fraud'])\n",
    "plt.show()"
   ]
  },
  {
   "cell_type": "markdown",
   "id": "50a47792",
   "metadata": {
    "execution": {
     "iopub.execute_input": "2023-11-13T21:15:25.988256Z",
     "iopub.status.busy": "2023-11-13T21:15:25.987663Z",
     "iopub.status.idle": "2023-11-13T21:15:25.995224Z",
     "shell.execute_reply": "2023-11-13T21:15:25.993896Z",
     "shell.execute_reply.started": "2023-11-13T21:15:25.988223Z"
    },
    "papermill": {
     "duration": 0.027373,
     "end_time": "2023-11-26T14:33:49.660727",
     "exception": false,
     "start_time": "2023-11-26T14:33:49.633354",
     "status": "completed"
    },
    "tags": []
   },
   "source": [
    "Since both male and female have good contribution in both fraud and not fraud cases so 'gender' is not a good feature for training data."
   ]
  },
  {
   "cell_type": "code",
   "execution_count": 19,
   "id": "7b8ab126",
   "metadata": {
    "execution": {
     "iopub.execute_input": "2023-11-26T14:33:49.717988Z",
     "iopub.status.busy": "2023-11-26T14:33:49.717558Z",
     "iopub.status.idle": "2023-11-26T14:33:50.316082Z",
     "shell.execute_reply": "2023-11-26T14:33:50.314852Z"
    },
    "papermill": {
     "duration": 0.630539,
     "end_time": "2023-11-26T14:33:50.318885",
     "exception": false,
     "start_time": "2023-11-26T14:33:49.688346",
     "status": "completed"
    },
    "tags": []
   },
   "outputs": [
    {
     "data": {
      "image/png": "[encoded data removed]",
      "text/plain": [
       "<Figure size 640x480 with 1 Axes>"
      ]
     },
     "metadata": {},
     "output_type": "display_data"
    }
   ],
   "source": [
    "plt.hist(dfm[\"category\"], color=\"red\", edgecolor=\"black\")\n",
    "plt.xticks(rotation=60)\n",
    "plt.title(\"Category\")\n",
    "plt.show()"
   ]
  },
  {
   "cell_type": "code",
   "execution_count": 20,
   "id": "47758d37",
   "metadata": {
    "execution": {
     "iopub.execute_input": "2023-11-26T14:33:50.381018Z",
     "iopub.status.busy": "2023-11-26T14:33:50.379958Z",
     "iopub.status.idle": "2023-11-26T14:33:51.374731Z",
     "shell.execute_reply": "2023-11-26T14:33:51.373823Z"
    },
    "papermill": {
     "duration": 1.028084,
     "end_time": "2023-11-26T14:33:51.377092",
     "exception": false,
     "start_time": "2023-11-26T14:33:50.349008",
     "status": "completed"
    },
    "tags": []
   },
   "outputs": [
    {
     "data": {
      "image/png": "[encoded data removed]",
      "text/plain": [
       "<Figure size 1600x800 with 1 Axes>"
      ]
     },
     "metadata": {},
     "output_type": "display_data"
    }
   ],
   "source": [
    "plt.figure(figsize=(16, 8))\n",
    "plt.hist((dfm[\"state\"]), bins=100)\n",
    "plt.show()"
   ]
  },
  {
   "cell_type": "code",
   "execution_count": 21,
   "id": "e5c370fa",
   "metadata": {
    "execution": {
     "iopub.execute_input": "2023-11-26T14:33:51.440560Z",
     "iopub.status.busy": "2023-11-26T14:33:51.439891Z",
     "iopub.status.idle": "2023-11-26T14:33:52.298894Z",
     "shell.execute_reply": "2023-11-26T14:33:52.297560Z"
    },
    "papermill": {
     "duration": 0.894786,
     "end_time": "2023-11-26T14:33:52.301958",
     "exception": false,
     "start_time": "2023-11-26T14:33:51.407172",
     "status": "completed"
    },
    "tags": []
   },
   "outputs": [],
   "source": [
    "dfm['trans_date_trans_time']=pd.to_datetime(dfm['trans_date_trans_time'])#converting it from object type to date-time\n",
    "dfm['trans_date']=dfm['trans_date_trans_time'].dt.strftime('%Y-%m-%d')#store date of transaction in a separate column\n"
   ]
  },
  {
   "cell_type": "markdown",
   "id": "638e36ba",
   "metadata": {
    "papermill": {
     "duration": 0.03079,
     "end_time": "2023-11-26T14:33:52.363737",
     "exception": false,
     "start_time": "2023-11-26T14:33:52.332947",
     "status": "completed"
    },
    "tags": []
   },
   "source": [
    "Date of fraud transaction can be a important feature while training  so I extracted it from 'trans_date_trans_time' column and created a new column 'trans_date' to store date of transaction."
   ]
  },
  {
   "cell_type": "code",
   "execution_count": 22,
   "id": "2abfc471",
   "metadata": {
    "execution": {
     "iopub.execute_input": "2023-11-26T14:33:52.427707Z",
     "iopub.status.busy": "2023-11-26T14:33:52.427185Z",
     "iopub.status.idle": "2023-11-26T14:33:52.761969Z",
     "shell.execute_reply": "2023-11-26T14:33:52.760388Z"
    },
    "papermill": {
     "duration": 0.371079,
     "end_time": "2023-11-26T14:33:52.764975",
     "exception": false,
     "start_time": "2023-11-26T14:33:52.393896",
     "status": "completed"
    },
    "tags": []
   },
   "outputs": [],
   "source": [
    "dfm['dob']=pd.to_datetime(dfm['dob'])\n",
    "dfm['trans_date']=pd.to_datetime(dfm['trans_date'])#This conversion will help me to perform date-related operations easily."
   ]
  },
  {
   "cell_type": "code",
   "execution_count": 23,
   "id": "ddce87df",
   "metadata": {
    "execution": {
     "iopub.execute_input": "2023-11-26T14:33:52.827091Z",
     "iopub.status.busy": "2023-11-26T14:33:52.826313Z",
     "iopub.status.idle": "2023-11-26T14:33:52.959861Z",
     "shell.execute_reply": "2023-11-26T14:33:52.958575Z"
    },
    "papermill": {
     "duration": 0.167975,
     "end_time": "2023-11-26T14:33:52.962936",
     "exception": false,
     "start_time": "2023-11-26T14:33:52.794961",
     "status": "completed"
    },
    "tags": []
   },
   "outputs": [],
   "source": [
    "dfm['age']=dfm['trans_date'].dt.year-dfm['dob'].dt.year"
   ]
  },
  {
   "cell_type": "markdown",
   "id": "43295155",
   "metadata": {
    "papermill": {
     "duration": 0.030568,
     "end_time": "2023-11-26T14:33:53.024011",
     "exception": false,
     "start_time": "2023-11-26T14:33:52.993443",
     "status": "completed"
    },
    "tags": []
   },
   "source": [
    "I created a new column 'age' where I am storing the age of the person while performing the transaction as this might be a good feature from feature engineering point of view."
   ]
  },
  {
   "cell_type": "code",
   "execution_count": 24,
   "id": "9283449f",
   "metadata": {
    "execution": {
     "iopub.execute_input": "2023-11-26T14:33:53.086712Z",
     "iopub.status.busy": "2023-11-26T14:33:53.086002Z",
     "iopub.status.idle": "2023-11-26T14:33:55.906961Z",
     "shell.execute_reply": "2023-11-26T14:33:55.905710Z"
    },
    "papermill": {
     "duration": 2.855671,
     "end_time": "2023-11-26T14:33:55.909794",
     "exception": false,
     "start_time": "2023-11-26T14:33:53.054123",
     "status": "completed"
    },
    "tags": []
   },
   "outputs": [
    {
     "data": {
      "text/plain": [
       "Text(0, 0.5, 'Density')"
      ]
     },
     "execution_count": 24,
     "metadata": {},
     "output_type": "execute_result"
    },
    {
     "data": {
      "image/png": "[encoded data removed]",
      "text/plain": [
       "<Figure size 640x480 with 1 Axes>"
      ]
     },
     "metadata": {},
     "output_type": "display_data"
    }
   ],
   "source": [
    "ageplot=sns.kdeplot(x='age',data=dfm, hue='is_fraud', common_norm=False)\n",
    "plt.title('Age of people doing transaction with hue on basis of \"is_fraud\" column')\n",
    "plt.legend(title='Fraud', labels=['Yes', 'No'])\n",
    "ageplot.set_xlabel('Age while performing transaction')\n",
    "ageplot.set_ylabel('Density')"
   ]
  },
  {
   "cell_type": "code",
   "execution_count": 25,
   "id": "97145a34",
   "metadata": {
    "execution": {
     "iopub.execute_input": "2023-11-26T14:33:55.973599Z",
     "iopub.status.busy": "2023-11-26T14:33:55.972463Z",
     "iopub.status.idle": "2023-11-26T14:33:57.402106Z",
     "shell.execute_reply": "2023-11-26T14:33:57.400830Z"
    },
    "papermill": {
     "duration": 1.464485,
     "end_time": "2023-11-26T14:33:57.405024",
     "exception": false,
     "start_time": "2023-11-26T14:33:55.940539",
     "status": "completed"
    },
    "tags": []
   },
   "outputs": [
    {
     "data": {
      "text/plain": [
       "Text(0.5, 0, 'Hour')"
      ]
     },
     "execution_count": 25,
     "metadata": {},
     "output_type": "execute_result"
    },
    {
     "data": {
      "image/png": "[encoded data removed]",
      "text/plain": [
       "<Figure size 640x480 with 1 Axes>"
      ]
     },
     "metadata": {},
     "output_type": "display_data"
    }
   ],
   "source": [
    "dfm['hour']=dfm['trans_date_trans_time'].dt.hour #separate column for hour of transaction\n",
    "Hourplot=sns.histplot(data=dfm, x=\"hour\", hue=\"is_fraud\", common_norm=False,stat='percent',multiple='dodge')\n",
    "plt.xticks(np.arange(0,24,1))\n",
    "plt.legend(title='Fraud', labels=['Yes', 'No'])\n",
    "Hourplot.set_ylabel('Percentage')\n",
    "Hourplot.set_xlabel('Hour')"
   ]
  },
  {
   "cell_type": "markdown",
   "id": "5e5dd0e9",
   "metadata": {
    "papermill": {
     "duration": 0.030956,
     "end_time": "2023-11-26T14:33:57.466505",
     "exception": false,
     "start_time": "2023-11-26T14:33:57.435549",
     "status": "completed"
    },
    "tags": []
   },
   "source": [
    "We can see there is huge increase in fraud transaction from 2200hrs to 0300hrs."
   ]
  },
  {
   "cell_type": "code",
   "execution_count": 26,
   "id": "4cb9fd8f",
   "metadata": {
    "execution": {
     "iopub.execute_input": "2023-11-26T14:33:57.530776Z",
     "iopub.status.busy": "2023-11-26T14:33:57.530132Z",
     "iopub.status.idle": "2023-11-26T14:33:58.680659Z",
     "shell.execute_reply": "2023-11-26T14:33:58.679386Z"
    },
    "papermill": {
     "duration": 1.187137,
     "end_time": "2023-11-26T14:33:58.684600",
     "exception": false,
     "start_time": "2023-11-26T14:33:57.497463",
     "status": "completed"
    },
    "tags": []
   },
   "outputs": [
    {
     "name": "stderr",
     "output_type": "stream",
     "text": [
      "/tmp/ipykernel_19/1221999956.py:3: UserWarning: FixedFormatter should only be used together with FixedLocator\n",
      "  dayplot.set_xticklabels(['',\"Monday\",\"Tuesday\",\"Wednesday\",\"Thursday\",\"Friday\",\"Saturday\",\"Sunday\"])\n"
     ]
    },
    {
     "data": {
      "text/plain": [
       "<matplotlib.legend.Legend at 0x7d0e518e3dc0>"
      ]
     },
     "execution_count": 26,
     "metadata": {},
     "output_type": "execute_result"
    },
    {
     "data": {
      "image/png": "[encoded data removed]",
      "text/plain": [
       "<Figure size 640x480 with 1 Axes>"
      ]
     },
     "metadata": {},
     "output_type": "display_data"
    }
   ],
   "source": [
    "dfm['day']=dfm['trans_date_trans_time'].dt.dayofweek\n",
    "dayplot=sns.histplot(data=dfm, x=\"day\", hue=\"is_fraud\", common_norm=False,stat='percent',multiple='dodge')\n",
    "dayplot.set_xticklabels(['',\"Monday\",\"Tuesday\",\"Wednesday\",\"Thursday\",\"Friday\",\"Saturday\",\"Sunday\"])\n",
    "dayplot.set_ylabel('Percentage')\n",
    "dayplot.set_xlabel('Days of Week')\n",
    "plt.legend(title='Fraud', labels=['Yes', 'No'])"
   ]
  },
  {
   "cell_type": "markdown",
   "id": "e82cb092",
   "metadata": {
    "papermill": {
     "duration": 0.031256,
     "end_time": "2023-11-26T14:33:58.747908",
     "exception": false,
     "start_time": "2023-11-26T14:33:58.716652",
     "status": "completed"
    },
    "tags": []
   },
   "source": [
    "Slight spike is seen in fraud transactions around weekends."
   ]
  },
  {
   "cell_type": "markdown",
   "id": "aac71bed",
   "metadata": {
    "papermill": {
     "duration": 0.031208,
     "end_time": "2023-11-26T14:33:58.810870",
     "exception": false,
     "start_time": "2023-11-26T14:33:58.779662",
     "status": "completed"
    },
    "tags": []
   },
   "source": [
    "Similar analysis I will do for month of fraud transaction."
   ]
  },
  {
   "cell_type": "code",
   "execution_count": 27,
   "id": "193ab720",
   "metadata": {
    "execution": {
     "iopub.execute_input": "2023-11-26T14:33:58.879695Z",
     "iopub.status.busy": "2023-11-26T14:33:58.879240Z",
     "iopub.status.idle": "2023-11-26T14:34:00.172530Z",
     "shell.execute_reply": "2023-11-26T14:34:00.171244Z"
    },
    "papermill": {
     "duration": 1.331653,
     "end_time": "2023-11-26T14:34:00.175439",
     "exception": false,
     "start_time": "2023-11-26T14:33:58.843786",
     "status": "completed"
    },
    "tags": []
   },
   "outputs": [
    {
     "data": {
      "text/plain": [
       "<matplotlib.legend.Legend at 0x7d0e51ae9bd0>"
      ]
     },
     "execution_count": 27,
     "metadata": {},
     "output_type": "execute_result"
    },
    {
     "data": {
      "image/png": "[encoded data removed]",
      "text/plain": [
       "<Figure size 640x480 with 1 Axes>"
      ]
     },
     "metadata": {},
     "output_type": "display_data"
    }
   ],
   "source": [
    "dfm['month']=dfm['trans_date_trans_time'].dt.month\n",
    "mplot=sns.histplot(data=dfm, x=\"month\", hue=\"is_fraud\", common_norm=False,stat='percent',multiple='dodge')\n",
    "mplot.set_xlabel('Month')\n",
    "plt.xticks(np.arange(1,13,1))\n",
    "mplot.set_ylabel('Percentage')\n",
    "mplot.set_xticklabels([\"Jan\",\"Feb\",\"Mar\",\"Apr\",\"May\",\"Jun\",\"Jul\",'Aug','Sep','Oct','Nov','Dec'])\n",
    "plt.legend(title='Fraud', labels=['Yes', 'No'])"
   ]
  },
  {
   "cell_type": "markdown",
   "id": "a6d9180f",
   "metadata": {
    "execution": {
     "iopub.execute_input": "2023-11-13T21:52:33.733544Z",
     "iopub.status.busy": "2023-11-13T21:52:33.733141Z",
     "iopub.status.idle": "2023-11-13T21:52:33.740524Z",
     "shell.execute_reply": "2023-11-13T21:52:33.738791Z",
     "shell.execute_reply.started": "2023-11-13T21:52:33.733513Z"
    },
    "papermill": {
     "duration": 0.033151,
     "end_time": "2023-11-26T14:34:00.244633",
     "exception": false,
     "start_time": "2023-11-26T14:34:00.211482",
     "status": "completed"
    },
    "tags": []
   },
   "source": [
    "I am selecting the features which I consider important for training my model"
   ]
  },
  {
   "cell_type": "code",
   "execution_count": 28,
   "id": "a93fbd43",
   "metadata": {
    "execution": {
     "iopub.execute_input": "2023-11-26T14:34:00.314758Z",
     "iopub.status.busy": "2023-11-26T14:34:00.314373Z",
     "iopub.status.idle": "2023-11-26T14:34:00.601752Z",
     "shell.execute_reply": "2023-11-26T14:34:00.600256Z"
    },
    "papermill": {
     "duration": 0.327001,
     "end_time": "2023-11-26T14:34:00.604754",
     "exception": false,
     "start_time": "2023-11-26T14:34:00.277753",
     "status": "completed"
    },
    "tags": []
   },
   "outputs": [],
   "source": [
    "train = dfm[['category', 'amt', 'zip', 'lat', 'long', 'merch_lat', 'merch_long', 'age', 'hour', 'day', 'month', 'is_fraud']]\n",
    "categoryints = pd.get_dummies(train['category'], prefix='category', drop_first=True)\n",
    "categoryints = categoryints.astype(int)# Replace boolean values with 0s and 1s\n",
    "train = train.drop('category', axis=1)\n",
    "train = pd.concat([train, categoryints], axis=1)\n",
    "y_train = train['is_fraud']\n",
    "X_train = train.drop(\"is_fraud\", axis=1)"
   ]
  },
  {
   "cell_type": "markdown",
   "id": "8e671ced",
   "metadata": {
    "papermill": {
     "duration": 0.034831,
     "end_time": "2023-11-26T14:34:00.674541",
     "exception": false,
     "start_time": "2023-11-26T14:34:00.639710",
     "status": "completed"
    },
    "tags": []
   },
   "source": [
    "Similar operations on test dataset"
   ]
  },
  {
   "cell_type": "code",
   "execution_count": 29,
   "id": "039605ce",
   "metadata": {
    "execution": {
     "iopub.execute_input": "2023-11-26T14:34:00.748700Z",
     "iopub.status.busy": "2023-11-26T14:34:00.748289Z",
     "iopub.status.idle": "2023-11-26T14:34:02.583061Z",
     "shell.execute_reply": "2023-11-26T14:34:02.581593Z"
    },
    "papermill": {
     "duration": 1.87413,
     "end_time": "2023-11-26T14:34:02.586493",
     "exception": false,
     "start_time": "2023-11-26T14:34:00.712363",
     "status": "completed"
    },
    "tags": []
   },
   "outputs": [],
   "source": [
    "dftestf['trans_date_trans_time']=pd.to_datetime(dftestf['trans_date_trans_time'])\n",
    "dftestf['trans_date']=dftestf['trans_date_trans_time'].dt.strftime('%Y-%m-%d')\n",
    "dftestf['trans_date']=pd.to_datetime(dftestf['trans_date'])\n",
    "dftestf['dob']=pd.to_datetime(dftestf['dob'])\n",
    "dftestf['amt'] = np.log1p(dftestf['amt'])\n",
    "dftestf['age']=dftestf['trans_date'].dt.year-dftestf['dob'].dt.year\n",
    "dftestf['hour']=dftestf['trans_date_trans_time'].dt.hour\n",
    "dftestf['day']=dftestf['trans_date_trans_time'].dt.dayofweek\n",
    "dftestf['month']=dftestf['trans_date_trans_time'].dt.month\n",
    "testf = dftestf[['category', 'amt', 'zip', 'lat', 'long', 'merch_lat', 'merch_long', 'age', 'hour', 'day', 'month']]\n",
    "categorytest = pd.get_dummies(testf['category'], prefix='category', drop_first=True)\n",
    "categorytest = categorytest.astype(int)\n",
    "testf = testf.drop('category', axis=1)\n",
    "testf = pd.concat([testf, categorytest], axis=1)"
   ]
  },
  {
   "cell_type": "markdown",
   "id": "48f5c16e",
   "metadata": {
    "papermill": {
     "duration": 0.034882,
     "end_time": "2023-11-26T14:34:02.656669",
     "exception": false,
     "start_time": "2023-11-26T14:34:02.621787",
     "status": "completed"
    },
    "tags": []
   },
   "source": [
    "**Handling Imbalanced nature of Train Dataset** ***using SMOTE (Synthetic Minority Oversampling Technique)***"
   ]
  },
  {
   "cell_type": "code",
   "execution_count": 30,
   "id": "a200e1f7",
   "metadata": {
    "execution": {
     "iopub.execute_input": "2023-11-26T14:34:02.730125Z",
     "iopub.status.busy": "2023-11-26T14:34:02.729729Z",
     "iopub.status.idle": "2023-11-26T14:34:04.042575Z",
     "shell.execute_reply": "2023-11-26T14:34:04.041141Z"
    },
    "papermill": {
     "duration": 1.352676,
     "end_time": "2023-11-26T14:34:04.045365",
     "exception": false,
     "start_time": "2023-11-26T14:34:02.692689",
     "status": "completed"
    },
    "tags": []
   },
   "outputs": [],
   "source": [
    "sm = SMOTE(random_state=42)#since only 1 one out of 69 transaction is fraud. So I am doing oversampling\n",
    "X_train_new,y_train_new=sm.fit_resample(X_train,y_train)"
   ]
  },
  {
   "cell_type": "markdown",
   "id": "c8995361",
   "metadata": {
    "papermill": {
     "duration": 0.032988,
     "end_time": "2023-11-26T14:34:04.110570",
     "exception": false,
     "start_time": "2023-11-26T14:34:04.077582",
     "status": "completed"
    },
    "tags": []
   },
   "source": [
    "I opted for oversampling in this case because, during the initial trial and testing, it yielded higher scores compared to undersampling."
   ]
  },
  {
   "cell_type": "code",
   "execution_count": 31,
   "id": "d47c97fb",
   "metadata": {
    "execution": {
     "iopub.execute_input": "2023-11-26T14:34:04.179055Z",
     "iopub.status.busy": "2023-11-26T14:34:04.177557Z",
     "iopub.status.idle": "2023-11-26T14:34:04.194652Z",
     "shell.execute_reply": "2023-11-26T14:34:04.193355Z"
    },
    "papermill": {
     "duration": 0.055067,
     "end_time": "2023-11-26T14:34:04.197401",
     "exception": false,
     "start_time": "2023-11-26T14:34:04.142334",
     "status": "completed"
    },
    "tags": []
   },
   "outputs": [
    {
     "data": {
      "text/plain": [
       "is_fraud\n",
       "0    515668\n",
       "1      7506\n",
       "Name: count, dtype: int64"
      ]
     },
     "execution_count": 31,
     "metadata": {},
     "output_type": "execute_result"
    }
   ],
   "source": [
    "y_train.value_counts()"
   ]
  },
  {
   "cell_type": "code",
   "execution_count": 32,
   "id": "d7a42414",
   "metadata": {
    "execution": {
     "iopub.execute_input": "2023-11-26T14:34:04.268540Z",
     "iopub.status.busy": "2023-11-26T14:34:04.267868Z",
     "iopub.status.idle": "2023-11-26T14:34:04.288294Z",
     "shell.execute_reply": "2023-11-26T14:34:04.286827Z"
    },
    "papermill": {
     "duration": 0.059429,
     "end_time": "2023-11-26T14:34:04.291180",
     "exception": false,
     "start_time": "2023-11-26T14:34:04.231751",
     "status": "completed"
    },
    "tags": []
   },
   "outputs": [
    {
     "data": {
      "text/plain": [
       "is_fraud\n",
       "0    515668\n",
       "1    515668\n",
       "Name: count, dtype: int64"
      ]
     },
     "execution_count": 32,
     "metadata": {},
     "output_type": "execute_result"
    }
   ],
   "source": [
    "y_train_new.value_counts()"
   ]
  },
  {
   "cell_type": "markdown",
   "id": "4242c49f",
   "metadata": {
    "papermill": {
     "duration": 0.034352,
     "end_time": "2023-11-26T14:34:04.360644",
     "exception": false,
     "start_time": "2023-11-26T14:34:04.326292",
     "status": "completed"
    },
    "tags": []
   },
   "source": [
    "Now the train dataset is balanced"
   ]
  },
  {
   "cell_type": "markdown",
   "id": "ef92313f",
   "metadata": {
    "papermill": {
     "duration": 0.032929,
     "end_time": "2023-11-26T14:34:04.427000",
     "exception": false,
     "start_time": "2023-11-26T14:34:04.394071",
     "status": "completed"
    },
    "tags": []
   },
   "source": [
    "<a id=\"5\"></a>\n",
    "<h1 style=\"background-color:#0F0F0F;font-family:newtimeroman;font-size:350%;text-align:center;border-radius: 15px 50px;color:#F0F0F0\">Cross Validation Set</h1>"
   ]
  },
  {
   "cell_type": "code",
   "execution_count": 33,
   "id": "6130f367",
   "metadata": {
    "execution": {
     "iopub.execute_input": "2023-11-26T14:34:04.495222Z",
     "iopub.status.busy": "2023-11-26T14:34:04.494388Z",
     "iopub.status.idle": "2023-11-26T14:34:05.148965Z",
     "shell.execute_reply": "2023-11-26T14:34:05.147922Z"
    },
    "papermill": {
     "duration": 0.69164,
     "end_time": "2023-11-26T14:34:05.151572",
     "exception": false,
     "start_time": "2023-11-26T14:34:04.459932",
     "status": "completed"
    },
    "tags": []
   },
   "outputs": [],
   "source": [
    "X_traincv,X_testcv,y_traincv,y_testcv = train_test_split(X_train_new,y_train_new,test_size = 0.3, random_state = 42) \n",
    "#cross validation"
   ]
  },
  {
   "cell_type": "markdown",
   "id": "74a3db95",
   "metadata": {
    "papermill": {
     "duration": 0.033525,
     "end_time": "2023-11-26T14:34:05.221143",
     "exception": false,
     "start_time": "2023-11-26T14:34:05.187618",
     "status": "completed"
    },
    "tags": []
   },
   "source": [
    "<a id=\"5.1\"></a>\n",
    "<h1><i><b>Training</b></i></h1>"
   ]
  },
  {
   "cell_type": "markdown",
   "id": "8b3696a1",
   "metadata": {
    "papermill": {
     "duration": 0.034277,
     "end_time": "2023-11-26T14:34:05.288403",
     "exception": false,
     "start_time": "2023-11-26T14:34:05.254126",
     "status": "completed"
    },
    "tags": []
   },
   "source": [
    "<h4>The hyperparameters utilized in the implemented models have been determined through RandomizedSearchCV and Optuna.</h4>\n",
    "You can find the code for hyperparameters on my GitHub."
   ]
  },
  {
   "cell_type": "markdown",
   "id": "29227a48",
   "metadata": {
    "papermill": {
     "duration": 0.033551,
     "end_time": "2023-11-26T14:34:05.355219",
     "exception": false,
     "start_time": "2023-11-26T14:34:05.321668",
     "status": "completed"
    },
    "tags": []
   },
   "source": [
    "<a id=\"5.1.1\"></a>\n",
    "<h3><u><b>RandomForestClassifier</b></u></h3>"
   ]
  },
  {
   "cell_type": "code",
   "execution_count": 34,
   "id": "4eef70b8",
   "metadata": {
    "execution": {
     "iopub.execute_input": "2023-11-26T14:34:05.429071Z",
     "iopub.status.busy": "2023-11-26T14:34:05.427912Z",
     "iopub.status.idle": "2023-11-26T15:50:00.059498Z",
     "shell.execute_reply": "2023-11-26T15:50:00.058176Z"
    },
    "papermill": {
     "duration": 4554.705859,
     "end_time": "2023-11-26T15:50:00.097012",
     "exception": false,
     "start_time": "2023-11-26T14:34:05.391153",
     "status": "completed"
    },
    "tags": []
   },
   "outputs": [
    {
     "name": "stdout",
     "output_type": "stream",
     "text": [
      "Confusion Matrix:  [[153344   1254]\n",
      " [   338 154465]]\n",
      "Accuracy Score:  0.994854573837835\n",
      "ROC_AUC_Score:  0.9948526099986568\n"
     ]
    }
   ],
   "source": [
    "best_rfc_params={'n_estimators': 1350,\n",
    " 'min_samples_split': 5,\n",
    " 'min_samples_leaf': 1,\n",
    " 'max_features': 'log2',\n",
    " 'max_depth': 1022,\n",
    " 'criterion': 'entropy'}\n",
    "rfc=RandomForestClassifier(**best_rfc_params)\n",
    "rfc.fit(X_traincv,y_traincv)\n",
    "y_predcv=rfc.predict(X_testcv)\n",
    "rfc_roc=roc_auc_score(y_testcv,y_predcv)\n",
    "rfc_acc=accuracy_score(y_testcv,y_predcv)\n",
    "print(\"Confusion Matrix: \",confusion_matrix(y_testcv,y_predcv))\n",
    "print(\"Accuracy Score: \",rfc_acc)\n",
    "print(\"ROC_AUC_Score: \",rfc_roc)"
   ]
  },
  {
   "cell_type": "markdown",
   "id": "b0514c24",
   "metadata": {
    "papermill": {
     "duration": 0.032087,
     "end_time": "2023-11-26T15:50:00.161661",
     "exception": false,
     "start_time": "2023-11-26T15:50:00.129574",
     "status": "completed"
    },
    "tags": []
   },
   "source": [
    "<a id=\"5.1.2\"></a>\n",
    "<h3><u><b>XGBoost</b></u></h3>"
   ]
  },
  {
   "cell_type": "code",
   "execution_count": 35,
   "id": "353d9ce4",
   "metadata": {
    "execution": {
     "iopub.execute_input": "2023-11-26T15:50:00.228255Z",
     "iopub.status.busy": "2023-11-26T15:50:00.227827Z",
     "iopub.status.idle": "2023-11-26T15:50:34.432215Z",
     "shell.execute_reply": "2023-11-26T15:50:34.431239Z"
    },
    "papermill": {
     "duration": 34.273358,
     "end_time": "2023-11-26T15:50:34.467512",
     "exception": false,
     "start_time": "2023-11-26T15:50:00.194154",
     "status": "completed"
    },
    "tags": []
   },
   "outputs": [
    {
     "name": "stdout",
     "output_type": "stream",
     "text": [
      "Confusion Matrix:  [[153659    939]\n",
      " [   217 154586]]\n",
      "Accuracy Score:  0.9962637483395335\n",
      "ROC_AUC_Score:  0.9962622005628532\n"
     ]
    }
   ],
   "source": [
    "best_xgb_params={'min_child_weight': 1,\n",
    " 'max_depth': 15,\n",
    " 'learning_rate': 0.25,\n",
    " 'gamma': 0.4,\n",
    " 'colsample_bytree': 0.5}\n",
    "xg=xgboost.XGBClassifier(**best_xgb_params)\n",
    "xg.fit(X_traincv,y_traincv)\n",
    "y_predcv=xg.predict(X_testcv)\n",
    "xgb_roc=roc_auc_score(y_testcv,y_predcv)\n",
    "xgb_acc=accuracy_score(y_testcv,y_predcv)\n",
    "print(\"Confusion Matrix: \",confusion_matrix(y_testcv,y_predcv))\n",
    "print(\"Accuracy Score: \",xgb_acc)\n",
    "print(\"ROC_AUC_Score: \",xgb_roc)"
   ]
  },
  {
   "cell_type": "markdown",
   "id": "82c472f8",
   "metadata": {
    "papermill": {
     "duration": 0.032604,
     "end_time": "2023-11-26T15:50:34.533107",
     "exception": false,
     "start_time": "2023-11-26T15:50:34.500503",
     "status": "completed"
    },
    "tags": []
   },
   "source": [
    "<a id=\"5.1.3\"></a>\n",
    "<h3><u><b>Light GBM</b></u></h3>"
   ]
  },
  {
   "cell_type": "code",
   "execution_count": 36,
   "id": "83e30b94",
   "metadata": {
    "execution": {
     "iopub.execute_input": "2023-11-26T15:50:34.604720Z",
     "iopub.status.busy": "2023-11-26T15:50:34.603733Z",
     "iopub.status.idle": "2023-11-26T15:52:11.557704Z",
     "shell.execute_reply": "2023-11-26T15:52:11.556351Z"
    },
    "papermill": {
     "duration": 97.024639,
     "end_time": "2023-11-26T15:52:11.593147",
     "exception": false,
     "start_time": "2023-11-26T15:50:34.568508",
     "status": "completed"
    },
    "tags": []
   },
   "outputs": [
    {
     "name": "stdout",
     "output_type": "stream",
     "text": [
      "Confusion Matrix:  [[153412   1186]\n",
      " [   148 154655]]\n",
      "Accuracy Score:  0.9956884431530603\n",
      "ROC_AUC_Score:  0.9956862184214342\n"
     ]
    }
   ],
   "source": [
    "best_lgb_params={'learning_rate': 0.045, 'n_estimators': 2000}\n",
    "lgbmcv=lgb.LGBMClassifier(**best_lgb_params)\n",
    "lgbmcv.fit(X_traincv,y_traincv)\n",
    "y_predcv=lgbmcv.predict(X_testcv)\n",
    "lgbm_roc=roc_auc_score(y_testcv,y_predcv)\n",
    "lgbm_acc=accuracy_score(y_testcv,y_predcv)\n",
    "print(\"Confusion Matrix: \",confusion_matrix(y_testcv,y_predcv))\n",
    "print(\"Accuracy Score: \",lgbm_acc)\n",
    "print(\"ROC_AUC_Score: \",lgbm_roc)"
   ]
  },
  {
   "cell_type": "markdown",
   "id": "de6a08b3",
   "metadata": {
    "papermill": {
     "duration": 0.032706,
     "end_time": "2023-11-26T15:52:11.659397",
     "exception": false,
     "start_time": "2023-11-26T15:52:11.626691",
     "status": "completed"
    },
    "tags": []
   },
   "source": [
    "<a id=\"5.1.4\"></a>\n",
    "<h3><u><b>DecisionTreeClassifier</b></u></h3>"
   ]
  },
  {
   "cell_type": "code",
   "execution_count": 37,
   "id": "3bf41c4b",
   "metadata": {
    "execution": {
     "iopub.execute_input": "2023-11-26T15:52:11.727336Z",
     "iopub.status.busy": "2023-11-26T15:52:11.726587Z",
     "iopub.status.idle": "2023-11-26T15:52:29.628202Z",
     "shell.execute_reply": "2023-11-26T15:52:29.626894Z"
    },
    "papermill": {
     "duration": 17.939151,
     "end_time": "2023-11-26T15:52:29.631054",
     "exception": false,
     "start_time": "2023-11-26T15:52:11.691903",
     "status": "completed"
    },
    "tags": []
   },
   "outputs": [
    {
     "name": "stdout",
     "output_type": "stream",
     "text": [
      "Confusion Matrix:  [[147189   7409]\n",
      " [  4745 150058]]\n",
      "Accuracy Score:  0.9607176447393512\n",
      "ROC_AUC_Score:  0.9607119226363026\n"
     ]
    }
   ],
   "source": [
    "best_dtc_params={'max_depth': 207, 'min_samples_split': 0.01,\n",
    "                 'criterion': 'entropy', 'max_features': None}\n",
    "\n",
    "dtc=DecisionTreeClassifier(**best_dtc_params)\n",
    "dtc.fit(X_traincv,y_traincv)\n",
    "y_predcv=dtc.predict(X_testcv)\n",
    "dtc_roc=roc_auc_score(y_testcv,y_predcv)\n",
    "dtc_acc=accuracy_score(y_testcv,y_predcv)\n",
    "print(\"Confusion Matrix: \",confusion_matrix(y_testcv,y_predcv))\n",
    "print(\"Accuracy Score: \",dtc_acc)\n",
    "print(\"ROC_AUC_Score: \",dtc_roc)"
   ]
  },
  {
   "cell_type": "markdown",
   "id": "3a66ec9a",
   "metadata": {
    "papermill": {
     "duration": 0.032342,
     "end_time": "2023-11-26T15:52:29.696726",
     "exception": false,
     "start_time": "2023-11-26T15:52:29.664384",
     "status": "completed"
    },
    "tags": []
   },
   "source": [
    "<a id=\"5.1.5\"></a>\n",
    "<h3><u><b>Logistic Regression</b></u></h3>"
   ]
  },
  {
   "cell_type": "code",
   "execution_count": 38,
   "id": "d85efa7e",
   "metadata": {
    "execution": {
     "iopub.execute_input": "2023-11-26T15:52:29.763798Z",
     "iopub.status.busy": "2023-11-26T15:52:29.763398Z",
     "iopub.status.idle": "2023-11-26T15:53:02.979020Z",
     "shell.execute_reply": "2023-11-26T15:53:02.977664Z"
    },
    "papermill": {
     "duration": 33.288196,
     "end_time": "2023-11-26T15:53:03.017582",
     "exception": false,
     "start_time": "2023-11-26T15:52:29.729386",
     "status": "completed"
    },
    "tags": []
   },
   "outputs": [
    {
     "name": "stdout",
     "output_type": "stream",
     "text": [
      "Confusion Matrix:  [[141828  12770]\n",
      " [  7567 147236]]\n",
      "Accuracy Score:  0.9342697664196302\n",
      "ROC_AUC_Score:  0.9342585955307738\n"
     ]
    }
   ],
   "source": [
    "best_lr_params={'C': 85539.17794889913, 'penalty': 'l1','solver':'liblinear'}\n",
    "\n",
    "lrc=LogisticRegression(**best_lr_params)\n",
    "lrc.fit(X_traincv,y_traincv)\n",
    "y_predcv=lrc.predict(X_testcv)\n",
    "lrc_roc=roc_auc_score(y_testcv,y_predcv)\n",
    "lrc_acc=accuracy_score(y_testcv,y_predcv)\n",
    "print(\"Confusion Matrix: \",confusion_matrix(y_testcv,y_predcv))\n",
    "print(\"Accuracy Score: \",lrc_acc)\n",
    "print(\"ROC_AUC_Score: \",lrc_roc)"
   ]
  },
  {
   "cell_type": "markdown",
   "id": "6859fc3b",
   "metadata": {
    "papermill": {
     "duration": 0.032942,
     "end_time": "2023-11-26T15:53:03.084161",
     "exception": false,
     "start_time": "2023-11-26T15:53:03.051219",
     "status": "completed"
    },
    "tags": []
   },
   "source": [
    "<a id=\"5.2\"></a>\n",
    "<h1><i><b>Scores</b></i></h1>"
   ]
  },
  {
   "cell_type": "code",
   "execution_count": 39,
   "id": "5d56bdae",
   "metadata": {
    "execution": {
     "iopub.execute_input": "2023-11-26T15:53:03.152079Z",
     "iopub.status.busy": "2023-11-26T15:53:03.151682Z",
     "iopub.status.idle": "2023-11-26T15:53:03.163397Z",
     "shell.execute_reply": "2023-11-26T15:53:03.162023Z"
    },
    "papermill": {
     "duration": 0.050778,
     "end_time": "2023-11-26T15:53:03.167525",
     "exception": false,
     "start_time": "2023-11-26T15:53:03.116747",
     "status": "completed"
    },
    "tags": []
   },
   "outputs": [
    {
     "name": "stdout",
     "output_type": "stream",
     "text": [
      "                      Model  Accuracy  ROC_AUC Score\n",
      "1        XGBoost Classifier  0.996264       0.996262\n",
      "2                  LightGBM  0.995688       0.995686\n",
      "0  Random Forest Classifier  0.994855       0.994853\n",
      "3  Decision Tree Classifier  0.960718       0.960712\n",
      "4       Logistic Regression  0.934270       0.934259\n"
     ]
    }
   ],
   "source": [
    "\n",
    "models = [('Random Forest Classifier', rfc_acc, rfc_roc),\n",
    "          ('XGBoost Classifier', xgb_acc, xgb_roc),\n",
    "          ('LightGBM', lgbm_acc, lgbm_roc),\n",
    "          ('Decision Tree Classifier', dtc_acc, dtc_roc),\n",
    "          ('Logistic Regression', lrc_acc, lrc_roc)\n",
    "         ]\n",
    "\n",
    "modelsdf = pd.DataFrame(data=models, columns=['Model', 'Accuracy', 'ROC_AUC Score']) \\\n",
    "                    .sort_values(by='ROC_AUC Score', ascending=False)\n",
    "\n",
    "print(modelsdf)\n"
   ]
  },
  {
   "cell_type": "markdown",
   "id": "dbe08950",
   "metadata": {
    "papermill": {
     "duration": 0.032582,
     "end_time": "2023-11-26T15:53:03.233107",
     "exception": false,
     "start_time": "2023-11-26T15:53:03.200525",
     "status": "completed"
    },
    "tags": []
   },
   "source": [
    "The output above is sorted in DESCENDING order of ROC_AUC Score"
   ]
  },
  {
   "cell_type": "code",
   "execution_count": 40,
   "id": "777a5219",
   "metadata": {
    "execution": {
     "iopub.execute_input": "2023-11-26T15:53:03.301046Z",
     "iopub.status.busy": "2023-11-26T15:53:03.300234Z",
     "iopub.status.idle": "2023-11-26T15:53:03.678065Z",
     "shell.execute_reply": "2023-11-26T15:53:03.676782Z"
    },
    "papermill": {
     "duration": 0.415284,
     "end_time": "2023-11-26T15:53:03.681178",
     "exception": false,
     "start_time": "2023-11-26T15:53:03.265894",
     "status": "completed"
    },
    "tags": []
   },
   "outputs": [
    {
     "data": {
      "image/png": "[encoded data removed]",
      "text/plain": [
       "<Figure size 1000x600 with 1 Axes>"
      ]
     },
     "metadata": {},
     "output_type": "display_data"
    }
   ],
   "source": [
    "plt.figure(figsize=(10, 6))\n",
    "plt.bar(modelsdf['Model'], modelsdf['ROC_AUC Score'], color='red')\n",
    "plt.xlabel('Model')\n",
    "plt.ylabel('ROC_AUC Score')\n",
    "plt.title('ROC_AUC Score for Different Models')\n",
    "plt.xticks(rotation=45, ha='right')#ha='right' specifies horizontal alignment of the tick labels, aligning them to the right\n",
    "plt.tight_layout()#adjusts subplot parameters to prevent overlapping of labels, titles, and other elements within the figure\n",
    "plt.show()"
   ]
  },
  {
   "cell_type": "markdown",
   "id": "b7c6af4c",
   "metadata": {
    "papermill": {
     "duration": 0.034048,
     "end_time": "2023-11-26T15:53:03.749558",
     "exception": false,
     "start_time": "2023-11-26T15:53:03.715510",
     "status": "completed"
    },
    "tags": []
   },
   "source": [
    "<a id = \"6\"></a>\n",
    "<h1 style=\"background-color:#0F0F0F;font-family:newtimeroman;font-size:350%;text-align:center;border-radius: 15px 50px;color:#F0F0F0\">Model Training</h1>"
   ]
  },
  {
   "cell_type": "markdown",
   "id": "7e35e2c8",
   "metadata": {
    "papermill": {
     "duration": 0.033614,
     "end_time": "2023-11-26T15:53:03.818014",
     "exception": false,
     "start_time": "2023-11-26T15:53:03.784400",
     "status": "completed"
    },
    "tags": []
   },
   "source": [
    "<a id=\"6.1\"></a>\n",
    "<h5><u><b>RandomForestClassifier</b></u></h5>"
   ]
  },
  {
   "cell_type": "code",
   "execution_count": 41,
   "id": "0fa1ed5c",
   "metadata": {
    "execution": {
     "iopub.execute_input": "2023-11-26T15:53:03.887854Z",
     "iopub.status.busy": "2023-11-26T15:53:03.887436Z",
     "iopub.status.idle": "2023-11-26T17:41:45.805857Z",
     "shell.execute_reply": "2023-11-26T17:41:45.804595Z"
    },
    "papermill": {
     "duration": 6521.986069,
     "end_time": "2023-11-26T17:41:45.837822",
     "exception": false,
     "start_time": "2023-11-26T15:53:03.851753",
     "status": "completed"
    },
    "tags": []
   },
   "outputs": [
    {
     "data": {
      "text/html": [
       "<style>#sk-container-id-1 {color: black;background-color: white;}#sk-container-id-1 pre{padding: 0;}#sk-container-id-1 div.sk-toggleable {background-color: white;}#sk-container-id-1 label.sk-toggleable__label {cursor: pointer;display: block;width: 100%;margin-bottom: 0;padding: 0.3em;box-sizing: border-box;text-align: center;}#sk-container-id-1 label.sk-toggleable__label-arrow:before {content: \"▸\";float: left;margin-right: 0.25em;color: #696969;}#sk-container-id-1 label.sk-toggleable__label-arrow:hover:before {color: black;}#sk-container-id-1 div.sk-estimator:hover label.sk-toggleable__label-arrow:before {color: black;}#sk-container-id-1 div.sk-toggleable__content {max-height: 0;max-width: 0;overflow: hidden;text-align: left;background-color: #f0f8ff;}#sk-container-id-1 div.sk-toggleable__content pre {margin: 0.2em;color: black;border-radius: 0.25em;background-color: #f0f8ff;}#sk-container-id-1 input.sk-toggleable__control:checked~div.sk-toggleable__content {max-height: 200px;max-width: 100%;overflow: auto;}#sk-container-id-1 input.sk-toggleable__control:checked~label.sk-toggleable__label-arrow:before {content: \"▾\";}#sk-container-id-1 div.sk-estimator input.sk-toggleable__control:checked~label.sk-toggleable__label {background-color: #d4ebff;}#sk-container-id-1 div.sk-label input.sk-toggleable__control:checked~label.sk-toggleable__label {background-color: #d4ebff;}#sk-container-id-1 input.sk-hidden--visually {border: 0;clip: rect(1px 1px 1px 1px);clip: rect(1px, 1px, 1px, 1px);height: 1px;margin: -1px;overflow: hidden;padding: 0;position: absolute;width: 1px;}#sk-container-id-1 div.sk-estimator {font-family: monospace;background-color: #f0f8ff;border: 1px dotted black;border-radius: 0.25em;box-sizing: border-box;margin-bottom: 0.5em;}#sk-container-id-1 div.sk-estimator:hover {background-color: #d4ebff;}#sk-container-id-1 div.sk-parallel-item::after {content: \"\";width: 100%;border-bottom: 1px solid gray;flex-grow: 1;}#sk-container-id-1 div.sk-label:hover label.sk-toggleable__label {background-color: #d4ebff;}#sk-container-id-1 div.sk-serial::before {content: \"\";position: absolute;border-left: 1px solid gray;box-sizing: border-box;top: 0;bottom: 0;left: 50%;z-index: 0;}#sk-container-id-1 div.sk-serial {display: flex;flex-direction: column;align-items: center;background-color: white;padding-right: 0.2em;padding-left: 0.2em;position: relative;}#sk-container-id-1 div.sk-item {position: relative;z-index: 1;}#sk-container-id-1 div.sk-parallel {display: flex;align-items: stretch;justify-content: center;background-color: white;position: relative;}#sk-container-id-1 div.sk-item::before, #sk-container-id-1 div.sk-parallel-item::before {content: \"\";position: absolute;border-left: 1px solid gray;box-sizing: border-box;top: 0;bottom: 0;left: 50%;z-index: -1;}#sk-container-id-1 div.sk-parallel-item {display: flex;flex-direction: column;z-index: 1;position: relative;background-color: white;}#sk-container-id-1 div.sk-parallel-item:first-child::after {align-self: flex-end;width: 50%;}#sk-container-id-1 div.sk-parallel-item:last-child::after {align-self: flex-start;width: 50%;}#sk-container-id-1 div.sk-parallel-item:only-child::after {width: 0;}#sk-container-id-1 div.sk-dashed-wrapped {border: 1px dashed gray;margin: 0 0.4em 0.5em 0.4em;box-sizing: border-box;padding-bottom: 0.4em;background-color: white;}#sk-container-id-1 div.sk-label label {font-family: monospace;font-weight: bold;display: inline-block;line-height: 1.2em;}#sk-container-id-1 div.sk-label-container {text-align: center;}#sk-container-id-1 div.sk-container {/* jupyter's `normalize.less` sets `[hidden] { display: none; }` but bootstrap.min.css set `[hidden] { display: none !important; }` so we also need the `!important` here to be able to override the default hidden behavior on the sphinx rendered scikit-learn.org. See: https://github.com/scikit-learn/scikit-learn/issues/21755 */display: inline-block !important;position: relative;}#sk-container-id-1 div.sk-text-repr-fallback {display: none;}</style><div id=\"sk-container-id-1\" class=\"sk-top-container\"><div class=\"sk-text-repr-fallback\"><pre>RandomForestClassifier(criterion=&#x27;entropy&#x27;, max_depth=1022, max_features=&#x27;log2&#x27;,\n",
       "                       min_samples_split=5, n_estimators=1350)</pre><b>In a Jupyter environment, please rerun this cell to show the HTML representation or trust the notebook. <br />On GitHub, the HTML representation is unable to render, please try loading this page with nbviewer.org.</b></div><div class=\"sk-container\" hidden><div class=\"sk-item\"><div class=\"sk-estimator sk-toggleable\"><input class=\"sk-toggleable__control sk-hidden--visually\" id=\"sk-estimator-id-1\" type=\"checkbox\" checked><label for=\"sk-estimator-id-1\" class=\"sk-toggleable__label sk-toggleable__label-arrow\">RandomForestClassifier</label><div class=\"sk-toggleable__content\"><pre>RandomForestClassifier(criterion=&#x27;entropy&#x27;, max_depth=1022, max_features=&#x27;log2&#x27;,\n",
       "                       min_samples_split=5, n_estimators=1350)</pre></div></div></div></div></div>"
      ],
      "text/plain": [
       "RandomForestClassifier(criterion='entropy', max_depth=1022, max_features='log2',\n",
       "                       min_samples_split=5, n_estimators=1350)"
      ]
     },
     "execution_count": 41,
     "metadata": {},
     "output_type": "execute_result"
    }
   ],
   "source": [
    "rfcf=RandomForestClassifier(**best_rfc_params)\n",
    "rfcf.fit(X_train_new,y_train_new)"
   ]
  },
  {
   "cell_type": "markdown",
   "id": "f626fe05",
   "metadata": {
    "papermill": {
     "duration": 0.035725,
     "end_time": "2023-11-26T17:41:45.908733",
     "exception": false,
     "start_time": "2023-11-26T17:41:45.873008",
     "status": "completed"
    },
    "tags": []
   },
   "source": [
    "<a id=\"6.2\"></a>\n",
    "<h5><u><b>XGBoost</b></u></h5>"
   ]
  },
  {
   "cell_type": "code",
   "execution_count": 42,
   "id": "650b31c4",
   "metadata": {
    "execution": {
     "iopub.execute_input": "2023-11-26T17:41:45.981203Z",
     "iopub.status.busy": "2023-11-26T17:41:45.980810Z",
     "iopub.status.idle": "2023-11-26T17:42:30.009522Z",
     "shell.execute_reply": "2023-11-26T17:42:30.008091Z"
    },
    "papermill": {
     "duration": 44.103826,
     "end_time": "2023-11-26T17:42:30.047991",
     "exception": false,
     "start_time": "2023-11-26T17:41:45.944165",
     "status": "completed"
    },
    "tags": []
   },
   "outputs": [
    {
     "data": {
      "text/html": [
       "<style>#sk-container-id-2 {color: black;background-color: white;}#sk-container-id-2 pre{padding: 0;}#sk-container-id-2 div.sk-toggleable {background-color: white;}#sk-container-id-2 label.sk-toggleable__label {cursor: pointer;display: block;width: 100%;margin-bottom: 0;padding: 0.3em;box-sizing: border-box;text-align: center;}#sk-container-id-2 label.sk-toggleable__label-arrow:before {content: \"▸\";float: left;margin-right: 0.25em;color: #696969;}#sk-container-id-2 label.sk-toggleable__label-arrow:hover:before {color: black;}#sk-container-id-2 div.sk-estimator:hover label.sk-toggleable__label-arrow:before {color: black;}#sk-container-id-2 div.sk-toggleable__content {max-height: 0;max-width: 0;overflow: hidden;text-align: left;background-color: #f0f8ff;}#sk-container-id-2 div.sk-toggleable__content pre {margin: 0.2em;color: black;border-radius: 0.25em;background-color: #f0f8ff;}#sk-container-id-2 input.sk-toggleable__control:checked~div.sk-toggleable__content {max-height: 200px;max-width: 100%;overflow: auto;}#sk-container-id-2 input.sk-toggleable__control:checked~label.sk-toggleable__label-arrow:before {content: \"▾\";}#sk-container-id-2 div.sk-estimator input.sk-toggleable__control:checked~label.sk-toggleable__label {background-color: #d4ebff;}#sk-container-id-2 div.sk-label input.sk-toggleable__control:checked~label.sk-toggleable__label {background-color: #d4ebff;}#sk-container-id-2 input.sk-hidden--visually {border: 0;clip: rect(1px 1px 1px 1px);clip: rect(1px, 1px, 1px, 1px);height: 1px;margin: -1px;overflow: hidden;padding: 0;position: absolute;width: 1px;}#sk-container-id-2 div.sk-estimator {font-family: monospace;background-color: #f0f8ff;border: 1px dotted black;border-radius: 0.25em;box-sizing: border-box;margin-bottom: 0.5em;}#sk-container-id-2 div.sk-estimator:hover {background-color: #d4ebff;}#sk-container-id-2 div.sk-parallel-item::after {content: \"\";width: 100%;border-bottom: 1px solid gray;flex-grow: 1;}#sk-container-id-2 div.sk-label:hover label.sk-toggleable__label {background-color: #d4ebff;}#sk-container-id-2 div.sk-serial::before {content: \"\";position: absolute;border-left: 1px solid gray;box-sizing: border-box;top: 0;bottom: 0;left: 50%;z-index: 0;}#sk-container-id-2 div.sk-serial {display: flex;flex-direction: column;align-items: center;background-color: white;padding-right: 0.2em;padding-left: 0.2em;position: relative;}#sk-container-id-2 div.sk-item {position: relative;z-index: 1;}#sk-container-id-2 div.sk-parallel {display: flex;align-items: stretch;justify-content: center;background-color: white;position: relative;}#sk-container-id-2 div.sk-item::before, #sk-container-id-2 div.sk-parallel-item::before {content: \"\";position: absolute;border-left: 1px solid gray;box-sizing: border-box;top: 0;bottom: 0;left: 50%;z-index: -1;}#sk-container-id-2 div.sk-parallel-item {display: flex;flex-direction: column;z-index: 1;position: relative;background-color: white;}#sk-container-id-2 div.sk-parallel-item:first-child::after {align-self: flex-end;width: 50%;}#sk-container-id-2 div.sk-parallel-item:last-child::after {align-self: flex-start;width: 50%;}#sk-container-id-2 div.sk-parallel-item:only-child::after {width: 0;}#sk-container-id-2 div.sk-dashed-wrapped {border: 1px dashed gray;margin: 0 0.4em 0.5em 0.4em;box-sizing: border-box;padding-bottom: 0.4em;background-color: white;}#sk-container-id-2 div.sk-label label {font-family: monospace;font-weight: bold;display: inline-block;line-height: 1.2em;}#sk-container-id-2 div.sk-label-container {text-align: center;}#sk-container-id-2 div.sk-container {/* jupyter's `normalize.less` sets `[hidden] { display: none; }` but bootstrap.min.css set `[hidden] { display: none !important; }` so we also need the `!important` here to be able to override the default hidden behavior on the sphinx rendered scikit-learn.org. See: https://github.com/scikit-learn/scikit-learn/issues/21755 */display: inline-block !important;position: relative;}#sk-container-id-2 div.sk-text-repr-fallback {display: none;}</style><div id=\"sk-container-id-2\" class=\"sk-top-container\"><div class=\"sk-text-repr-fallback\"><pre>XGBClassifier(base_score=None, booster=None, callbacks=None,\n",
       "              colsample_bylevel=None, colsample_bynode=None,\n",
       "              colsample_bytree=0.5, device=None, early_stopping_rounds=None,\n",
       "              enable_categorical=False, eval_metric=None, feature_types=None,\n",
       "              gamma=0.4, grow_policy=None, importance_type=None,\n",
       "              interaction_constraints=None, learning_rate=0.25, max_bin=None,\n",
       "              max_cat_threshold=None, max_cat_to_onehot=None,\n",
       "              max_delta_step=None, max_depth=15, max_leaves=None,\n",
       "              min_child_weight=1, missing=nan, monotone_constraints=None,\n",
       "              multi_strategy=None, n_estimators=None, n_jobs=None,\n",
       "              num_parallel_tree=None, random_state=None, ...)</pre><b>In a Jupyter environment, please rerun this cell to show the HTML representation or trust the notebook. <br />On GitHub, the HTML representation is unable to render, please try loading this page with nbviewer.org.</b></div><div class=\"sk-container\" hidden><div class=\"sk-item\"><div class=\"sk-estimator sk-toggleable\"><input class=\"sk-toggleable__control sk-hidden--visually\" id=\"sk-estimator-id-2\" type=\"checkbox\" checked><label for=\"sk-estimator-id-2\" class=\"sk-toggleable__label sk-toggleable__label-arrow\">XGBClassifier</label><div class=\"sk-toggleable__content\"><pre>XGBClassifier(base_score=None, booster=None, callbacks=None,\n",
       "              colsample_bylevel=None, colsample_bynode=None,\n",
       "              colsample_bytree=0.5, device=None, early_stopping_rounds=None,\n",
       "              enable_categorical=False, eval_metric=None, feature_types=None,\n",
       "              gamma=0.4, grow_policy=None, importance_type=None,\n",
       "              interaction_constraints=None, learning_rate=0.25, max_bin=None,\n",
       "              max_cat_threshold=None, max_cat_to_onehot=None,\n",
       "              max_delta_step=None, max_depth=15, max_leaves=None,\n",
       "              min_child_weight=1, missing=nan, monotone_constraints=None,\n",
       "              multi_strategy=None, n_estimators=None, n_jobs=None,\n",
       "              num_parallel_tree=None, random_state=None, ...)</pre></div></div></div></div></div>"
      ],
      "text/plain": [
       "XGBClassifier(base_score=None, booster=None, callbacks=None,\n",
       "              colsample_bylevel=None, colsample_bynode=None,\n",
       "              colsample_bytree=0.5, device=None, early_stopping_rounds=None,\n",
       "              enable_categorical=False, eval_metric=None, feature_types=None,\n",
       "              gamma=0.4, grow_policy=None, importance_type=None,\n",
       "              interaction_constraints=None, learning_rate=0.25, max_bin=None,\n",
       "              max_cat_threshold=None, max_cat_to_onehot=None,\n",
       "              max_delta_step=None, max_depth=15, max_leaves=None,\n",
       "              min_child_weight=1, missing=nan, monotone_constraints=None,\n",
       "              multi_strategy=None, n_estimators=None, n_jobs=None,\n",
       "              num_parallel_tree=None, random_state=None, ...)"
      ]
     },
     "execution_count": 42,
     "metadata": {},
     "output_type": "execute_result"
    }
   ],
   "source": [
    "xgf=xgboost.XGBClassifier(**best_xgb_params)\n",
    "xgf.fit(X_train_new,y_train_new)"
   ]
  },
  {
   "cell_type": "markdown",
   "id": "231b7d47",
   "metadata": {
    "papermill": {
     "duration": 0.035655,
     "end_time": "2023-11-26T17:42:30.118341",
     "exception": false,
     "start_time": "2023-11-26T17:42:30.082686",
     "status": "completed"
    },
    "tags": []
   },
   "source": [
    "<a id=\"6.3\"></a>\n",
    "<h5><u><b>Light GBM</b></u></h5>"
   ]
  },
  {
   "cell_type": "code",
   "execution_count": 43,
   "id": "cb177675",
   "metadata": {
    "execution": {
     "iopub.execute_input": "2023-11-26T17:42:30.189421Z",
     "iopub.status.busy": "2023-11-26T17:42:30.188998Z",
     "iopub.status.idle": "2023-11-26T17:44:16.742793Z",
     "shell.execute_reply": "2023-11-26T17:44:16.741333Z"
    },
    "papermill": {
     "duration": 106.628358,
     "end_time": "2023-11-26T17:44:16.781382",
     "exception": false,
     "start_time": "2023-11-26T17:42:30.153024",
     "status": "completed"
    },
    "tags": []
   },
   "outputs": [
    {
     "data": {
      "text/html": [
       "<style>#sk-container-id-3 {color: black;background-color: white;}#sk-container-id-3 pre{padding: 0;}#sk-container-id-3 div.sk-toggleable {background-color: white;}#sk-container-id-3 label.sk-toggleable__label {cursor: pointer;display: block;width: 100%;margin-bottom: 0;padding: 0.3em;box-sizing: border-box;text-align: center;}#sk-container-id-3 label.sk-toggleable__label-arrow:before {content: \"▸\";float: left;margin-right: 0.25em;color: #696969;}#sk-container-id-3 label.sk-toggleable__label-arrow:hover:before {color: black;}#sk-container-id-3 div.sk-estimator:hover label.sk-toggleable__label-arrow:before {color: black;}#sk-container-id-3 div.sk-toggleable__content {max-height: 0;max-width: 0;overflow: hidden;text-align: left;background-color: #f0f8ff;}#sk-container-id-3 div.sk-toggleable__content pre {margin: 0.2em;color: black;border-radius: 0.25em;background-color: #f0f8ff;}#sk-container-id-3 input.sk-toggleable__control:checked~div.sk-toggleable__content {max-height: 200px;max-width: 100%;overflow: auto;}#sk-container-id-3 input.sk-toggleable__control:checked~label.sk-toggleable__label-arrow:before {content: \"▾\";}#sk-container-id-3 div.sk-estimator input.sk-toggleable__control:checked~label.sk-toggleable__label {background-color: #d4ebff;}#sk-container-id-3 div.sk-label input.sk-toggleable__control:checked~label.sk-toggleable__label {background-color: #d4ebff;}#sk-container-id-3 input.sk-hidden--visually {border: 0;clip: rect(1px 1px 1px 1px);clip: rect(1px, 1px, 1px, 1px);height: 1px;margin: -1px;overflow: hidden;padding: 0;position: absolute;width: 1px;}#sk-container-id-3 div.sk-estimator {font-family: monospace;background-color: #f0f8ff;border: 1px dotted black;border-radius: 0.25em;box-sizing: border-box;margin-bottom: 0.5em;}#sk-container-id-3 div.sk-estimator:hover {background-color: #d4ebff;}#sk-container-id-3 div.sk-parallel-item::after {content: \"\";width: 100%;border-bottom: 1px solid gray;flex-grow: 1;}#sk-container-id-3 div.sk-label:hover label.sk-toggleable__label {background-color: #d4ebff;}#sk-container-id-3 div.sk-serial::before {content: \"\";position: absolute;border-left: 1px solid gray;box-sizing: border-box;top: 0;bottom: 0;left: 50%;z-index: 0;}#sk-container-id-3 div.sk-serial {display: flex;flex-direction: column;align-items: center;background-color: white;padding-right: 0.2em;padding-left: 0.2em;position: relative;}#sk-container-id-3 div.sk-item {position: relative;z-index: 1;}#sk-container-id-3 div.sk-parallel {display: flex;align-items: stretch;justify-content: center;background-color: white;position: relative;}#sk-container-id-3 div.sk-item::before, #sk-container-id-3 div.sk-parallel-item::before {content: \"\";position: absolute;border-left: 1px solid gray;box-sizing: border-box;top: 0;bottom: 0;left: 50%;z-index: -1;}#sk-container-id-3 div.sk-parallel-item {display: flex;flex-direction: column;z-index: 1;position: relative;background-color: white;}#sk-container-id-3 div.sk-parallel-item:first-child::after {align-self: flex-end;width: 50%;}#sk-container-id-3 div.sk-parallel-item:last-child::after {align-self: flex-start;width: 50%;}#sk-container-id-3 div.sk-parallel-item:only-child::after {width: 0;}#sk-container-id-3 div.sk-dashed-wrapped {border: 1px dashed gray;margin: 0 0.4em 0.5em 0.4em;box-sizing: border-box;padding-bottom: 0.4em;background-color: white;}#sk-container-id-3 div.sk-label label {font-family: monospace;font-weight: bold;display: inline-block;line-height: 1.2em;}#sk-container-id-3 div.sk-label-container {text-align: center;}#sk-container-id-3 div.sk-container {/* jupyter's `normalize.less` sets `[hidden] { display: none; }` but bootstrap.min.css set `[hidden] { display: none !important; }` so we also need the `!important` here to be able to override the default hidden behavior on the sphinx rendered scikit-learn.org. See: https://github.com/scikit-learn/scikit-learn/issues/21755 */display: inline-block !important;position: relative;}#sk-container-id-3 div.sk-text-repr-fallback {display: none;}</style><div id=\"sk-container-id-3\" class=\"sk-top-container\"><div class=\"sk-text-repr-fallback\"><pre>LGBMClassifier(learning_rate=0.045, n_estimators=2000)</pre><b>In a Jupyter environment, please rerun this cell to show the HTML representation or trust the notebook. <br />On GitHub, the HTML representation is unable to render, please try loading this page with nbviewer.org.</b></div><div class=\"sk-container\" hidden><div class=\"sk-item\"><div class=\"sk-estimator sk-toggleable\"><input class=\"sk-toggleable__control sk-hidden--visually\" id=\"sk-estimator-id-3\" type=\"checkbox\" checked><label for=\"sk-estimator-id-3\" class=\"sk-toggleable__label sk-toggleable__label-arrow\">LGBMClassifier</label><div class=\"sk-toggleable__content\"><pre>LGBMClassifier(learning_rate=0.045, n_estimators=2000)</pre></div></div></div></div></div>"
      ],
      "text/plain": [
       "LGBMClassifier(learning_rate=0.045, n_estimators=2000)"
      ]
     },
     "execution_count": 43,
     "metadata": {},
     "output_type": "execute_result"
    }
   ],
   "source": [
    "lgbmf=lgb.LGBMClassifier(**best_lgb_params)\n",
    "lgbmf.fit(X_train_new,y_train_new)"
   ]
  },
  {
   "cell_type": "markdown",
   "id": "a47cef4a",
   "metadata": {
    "papermill": {
     "duration": 0.035556,
     "end_time": "2023-11-26T17:44:16.852219",
     "exception": false,
     "start_time": "2023-11-26T17:44:16.816663",
     "status": "completed"
    },
    "tags": []
   },
   "source": [
    "<a id=\"6.4\"></a>\n",
    "<h5><u><b>DecisionTreeClassifier</b></u></h5>"
   ]
  },
  {
   "cell_type": "code",
   "execution_count": 44,
   "id": "155df961",
   "metadata": {
    "execution": {
     "iopub.execute_input": "2023-11-26T17:44:16.925597Z",
     "iopub.status.busy": "2023-11-26T17:44:16.925167Z",
     "iopub.status.idle": "2023-11-26T17:44:41.513651Z",
     "shell.execute_reply": "2023-11-26T17:44:41.512372Z"
    },
    "papermill": {
     "duration": 24.628333,
     "end_time": "2023-11-26T17:44:41.516228",
     "exception": false,
     "start_time": "2023-11-26T17:44:16.887895",
     "status": "completed"
    },
    "tags": []
   },
   "outputs": [
    {
     "data": {
      "text/html": [
       "<style>#sk-container-id-4 {color: black;background-color: white;}#sk-container-id-4 pre{padding: 0;}#sk-container-id-4 div.sk-toggleable {background-color: white;}#sk-container-id-4 label.sk-toggleable__label {cursor: pointer;display: block;width: 100%;margin-bottom: 0;padding: 0.3em;box-sizing: border-box;text-align: center;}#sk-container-id-4 label.sk-toggleable__label-arrow:before {content: \"▸\";float: left;margin-right: 0.25em;color: #696969;}#sk-container-id-4 label.sk-toggleable__label-arrow:hover:before {color: black;}#sk-container-id-4 div.sk-estimator:hover label.sk-toggleable__label-arrow:before {color: black;}#sk-container-id-4 div.sk-toggleable__content {max-height: 0;max-width: 0;overflow: hidden;text-align: left;background-color: #f0f8ff;}#sk-container-id-4 div.sk-toggleable__content pre {margin: 0.2em;color: black;border-radius: 0.25em;background-color: #f0f8ff;}#sk-container-id-4 input.sk-toggleable__control:checked~div.sk-toggleable__content {max-height: 200px;max-width: 100%;overflow: auto;}#sk-container-id-4 input.sk-toggleable__control:checked~label.sk-toggleable__label-arrow:before {content: \"▾\";}#sk-container-id-4 div.sk-estimator input.sk-toggleable__control:checked~label.sk-toggleable__label {background-color: #d4ebff;}#sk-container-id-4 div.sk-label input.sk-toggleable__control:checked~label.sk-toggleable__label {background-color: #d4ebff;}#sk-container-id-4 input.sk-hidden--visually {border: 0;clip: rect(1px 1px 1px 1px);clip: rect(1px, 1px, 1px, 1px);height: 1px;margin: -1px;overflow: hidden;padding: 0;position: absolute;width: 1px;}#sk-container-id-4 div.sk-estimator {font-family: monospace;background-color: #f0f8ff;border: 1px dotted black;border-radius: 0.25em;box-sizing: border-box;margin-bottom: 0.5em;}#sk-container-id-4 div.sk-estimator:hover {background-color: #d4ebff;}#sk-container-id-4 div.sk-parallel-item::after {content: \"\";width: 100%;border-bottom: 1px solid gray;flex-grow: 1;}#sk-container-id-4 div.sk-label:hover label.sk-toggleable__label {background-color: #d4ebff;}#sk-container-id-4 div.sk-serial::before {content: \"\";position: absolute;border-left: 1px solid gray;box-sizing: border-box;top: 0;bottom: 0;left: 50%;z-index: 0;}#sk-container-id-4 div.sk-serial {display: flex;flex-direction: column;align-items: center;background-color: white;padding-right: 0.2em;padding-left: 0.2em;position: relative;}#sk-container-id-4 div.sk-item {position: relative;z-index: 1;}#sk-container-id-4 div.sk-parallel {display: flex;align-items: stretch;justify-content: center;background-color: white;position: relative;}#sk-container-id-4 div.sk-item::before, #sk-container-id-4 div.sk-parallel-item::before {content: \"\";position: absolute;border-left: 1px solid gray;box-sizing: border-box;top: 0;bottom: 0;left: 50%;z-index: -1;}#sk-container-id-4 div.sk-parallel-item {display: flex;flex-direction: column;z-index: 1;position: relative;background-color: white;}#sk-container-id-4 div.sk-parallel-item:first-child::after {align-self: flex-end;width: 50%;}#sk-container-id-4 div.sk-parallel-item:last-child::after {align-self: flex-start;width: 50%;}#sk-container-id-4 div.sk-parallel-item:only-child::after {width: 0;}#sk-container-id-4 div.sk-dashed-wrapped {border: 1px dashed gray;margin: 0 0.4em 0.5em 0.4em;box-sizing: border-box;padding-bottom: 0.4em;background-color: white;}#sk-container-id-4 div.sk-label label {font-family: monospace;font-weight: bold;display: inline-block;line-height: 1.2em;}#sk-container-id-4 div.sk-label-container {text-align: center;}#sk-container-id-4 div.sk-container {/* jupyter's `normalize.less` sets `[hidden] { display: none; }` but bootstrap.min.css set `[hidden] { display: none !important; }` so we also need the `!important` here to be able to override the default hidden behavior on the sphinx rendered scikit-learn.org. See: https://github.com/scikit-learn/scikit-learn/issues/21755 */display: inline-block !important;position: relative;}#sk-container-id-4 div.sk-text-repr-fallback {display: none;}</style><div id=\"sk-container-id-4\" class=\"sk-top-container\"><div class=\"sk-text-repr-fallback\"><pre>DecisionTreeClassifier(criterion=&#x27;entropy&#x27;, max_depth=207,\n",
       "                       min_samples_split=0.01)</pre><b>In a Jupyter environment, please rerun this cell to show the HTML representation or trust the notebook. <br />On GitHub, the HTML representation is unable to render, please try loading this page with nbviewer.org.</b></div><div class=\"sk-container\" hidden><div class=\"sk-item\"><div class=\"sk-estimator sk-toggleable\"><input class=\"sk-toggleable__control sk-hidden--visually\" id=\"sk-estimator-id-4\" type=\"checkbox\" checked><label for=\"sk-estimator-id-4\" class=\"sk-toggleable__label sk-toggleable__label-arrow\">DecisionTreeClassifier</label><div class=\"sk-toggleable__content\"><pre>DecisionTreeClassifier(criterion=&#x27;entropy&#x27;, max_depth=207,\n",
       "                       min_samples_split=0.01)</pre></div></div></div></div></div>"
      ],
      "text/plain": [
       "DecisionTreeClassifier(criterion='entropy', max_depth=207,\n",
       "                       min_samples_split=0.01)"
      ]
     },
     "execution_count": 44,
     "metadata": {},
     "output_type": "execute_result"
    }
   ],
   "source": [
    "dtcf=DecisionTreeClassifier(**best_dtc_params)\n",
    "dtcf.fit(X_train_new,y_train_new)"
   ]
  },
  {
   "cell_type": "markdown",
   "id": "4bbb4d85",
   "metadata": {
    "papermill": {
     "duration": 0.036357,
     "end_time": "2023-11-26T17:44:41.591040",
     "exception": false,
     "start_time": "2023-11-26T17:44:41.554683",
     "status": "completed"
    },
    "tags": []
   },
   "source": [
    "<a id=\"6.5\"></a>\n",
    "<h5><u><b>Logistic Regression</b></u></h5>"
   ]
  },
  {
   "cell_type": "code",
   "execution_count": 45,
   "id": "ee31101f",
   "metadata": {
    "execution": {
     "iopub.execute_input": "2023-11-26T17:44:41.665770Z",
     "iopub.status.busy": "2023-11-26T17:44:41.664919Z",
     "iopub.status.idle": "2023-11-26T17:45:43.065904Z",
     "shell.execute_reply": "2023-11-26T17:45:43.064882Z"
    },
    "papermill": {
     "duration": 61.475846,
     "end_time": "2023-11-26T17:45:43.103334",
     "exception": false,
     "start_time": "2023-11-26T17:44:41.627488",
     "status": "completed"
    },
    "tags": []
   },
   "outputs": [
    {
     "data": {
      "text/html": [
       "<style>#sk-container-id-5 {color: black;background-color: white;}#sk-container-id-5 pre{padding: 0;}#sk-container-id-5 div.sk-toggleable {background-color: white;}#sk-container-id-5 label.sk-toggleable__label {cursor: pointer;display: block;width: 100%;margin-bottom: 0;padding: 0.3em;box-sizing: border-box;text-align: center;}#sk-container-id-5 label.sk-toggleable__label-arrow:before {content: \"▸\";float: left;margin-right: 0.25em;color: #696969;}#sk-container-id-5 label.sk-toggleable__label-arrow:hover:before {color: black;}#sk-container-id-5 div.sk-estimator:hover label.sk-toggleable__label-arrow:before {color: black;}#sk-container-id-5 div.sk-toggleable__content {max-height: 0;max-width: 0;overflow: hidden;text-align: left;background-color: #f0f8ff;}#sk-container-id-5 div.sk-toggleable__content pre {margin: 0.2em;color: black;border-radius: 0.25em;background-color: #f0f8ff;}#sk-container-id-5 input.sk-toggleable__control:checked~div.sk-toggleable__content {max-height: 200px;max-width: 100%;overflow: auto;}#sk-container-id-5 input.sk-toggleable__control:checked~label.sk-toggleable__label-arrow:before {content: \"▾\";}#sk-container-id-5 div.sk-estimator input.sk-toggleable__control:checked~label.sk-toggleable__label {background-color: #d4ebff;}#sk-container-id-5 div.sk-label input.sk-toggleable__control:checked~label.sk-toggleable__label {background-color: #d4ebff;}#sk-container-id-5 input.sk-hidden--visually {border: 0;clip: rect(1px 1px 1px 1px);clip: rect(1px, 1px, 1px, 1px);height: 1px;margin: -1px;overflow: hidden;padding: 0;position: absolute;width: 1px;}#sk-container-id-5 div.sk-estimator {font-family: monospace;background-color: #f0f8ff;border: 1px dotted black;border-radius: 0.25em;box-sizing: border-box;margin-bottom: 0.5em;}#sk-container-id-5 div.sk-estimator:hover {background-color: #d4ebff;}#sk-container-id-5 div.sk-parallel-item::after {content: \"\";width: 100%;border-bottom: 1px solid gray;flex-grow: 1;}#sk-container-id-5 div.sk-label:hover label.sk-toggleable__label {background-color: #d4ebff;}#sk-container-id-5 div.sk-serial::before {content: \"\";position: absolute;border-left: 1px solid gray;box-sizing: border-box;top: 0;bottom: 0;left: 50%;z-index: 0;}#sk-container-id-5 div.sk-serial {display: flex;flex-direction: column;align-items: center;background-color: white;padding-right: 0.2em;padding-left: 0.2em;position: relative;}#sk-container-id-5 div.sk-item {position: relative;z-index: 1;}#sk-container-id-5 div.sk-parallel {display: flex;align-items: stretch;justify-content: center;background-color: white;position: relative;}#sk-container-id-5 div.sk-item::before, #sk-container-id-5 div.sk-parallel-item::before {content: \"\";position: absolute;border-left: 1px solid gray;box-sizing: border-box;top: 0;bottom: 0;left: 50%;z-index: -1;}#sk-container-id-5 div.sk-parallel-item {display: flex;flex-direction: column;z-index: 1;position: relative;background-color: white;}#sk-container-id-5 div.sk-parallel-item:first-child::after {align-self: flex-end;width: 50%;}#sk-container-id-5 div.sk-parallel-item:last-child::after {align-self: flex-start;width: 50%;}#sk-container-id-5 div.sk-parallel-item:only-child::after {width: 0;}#sk-container-id-5 div.sk-dashed-wrapped {border: 1px dashed gray;margin: 0 0.4em 0.5em 0.4em;box-sizing: border-box;padding-bottom: 0.4em;background-color: white;}#sk-container-id-5 div.sk-label label {font-family: monospace;font-weight: bold;display: inline-block;line-height: 1.2em;}#sk-container-id-5 div.sk-label-container {text-align: center;}#sk-container-id-5 div.sk-container {/* jupyter's `normalize.less` sets `[hidden] { display: none; }` but bootstrap.min.css set `[hidden] { display: none !important; }` so we also need the `!important` here to be able to override the default hidden behavior on the sphinx rendered scikit-learn.org. See: https://github.com/scikit-learn/scikit-learn/issues/21755 */display: inline-block !important;position: relative;}#sk-container-id-5 div.sk-text-repr-fallback {display: none;}</style><div id=\"sk-container-id-5\" class=\"sk-top-container\"><div class=\"sk-text-repr-fallback\"><pre>LogisticRegression(C=85539.17794889913, penalty=&#x27;l1&#x27;, solver=&#x27;liblinear&#x27;)</pre><b>In a Jupyter environment, please rerun this cell to show the HTML representation or trust the notebook. <br />On GitHub, the HTML representation is unable to render, please try loading this page with nbviewer.org.</b></div><div class=\"sk-container\" hidden><div class=\"sk-item\"><div class=\"sk-estimator sk-toggleable\"><input class=\"sk-toggleable__control sk-hidden--visually\" id=\"sk-estimator-id-5\" type=\"checkbox\" checked><label for=\"sk-estimator-id-5\" class=\"sk-toggleable__label sk-toggleable__label-arrow\">LogisticRegression</label><div class=\"sk-toggleable__content\"><pre>LogisticRegression(C=85539.17794889913, penalty=&#x27;l1&#x27;, solver=&#x27;liblinear&#x27;)</pre></div></div></div></div></div>"
      ],
      "text/plain": [
       "LogisticRegression(C=85539.17794889913, penalty='l1', solver='liblinear')"
      ]
     },
     "execution_count": 45,
     "metadata": {},
     "output_type": "execute_result"
    }
   ],
   "source": [
    "lrcf=LogisticRegression(**best_lr_params)\n",
    "lrcf.fit(X_train_new,y_train_new)"
   ]
  },
  {
   "cell_type": "markdown",
   "id": "77a3a939",
   "metadata": {
    "papermill": {
     "duration": 0.037003,
     "end_time": "2023-11-26T17:45:43.176516",
     "exception": false,
     "start_time": "2023-11-26T17:45:43.139513",
     "status": "completed"
    },
    "tags": []
   },
   "source": [
    "<a id = \"7\"></a>\n",
    "<h1 style=\"background-color:#0F0F0F;font-family:newtimeroman;font-size:350%;text-align:center;border-radius: 15px 50px;color:#F0F0F0\">Predictions</h1>"
   ]
  },
  {
   "cell_type": "markdown",
   "id": "50f872b7",
   "metadata": {
    "papermill": {
     "duration": 0.035517,
     "end_time": "2023-11-26T17:45:43.248477",
     "exception": false,
     "start_time": "2023-11-26T17:45:43.212960",
     "status": "completed"
    },
    "tags": []
   },
   "source": [
    "Making predictions on the test set using Random Forest, XGBoost, LightGBM, Decision Tree and Logistic Regression."
   ]
  },
  {
   "cell_type": "code",
   "execution_count": 46,
   "id": "a0af607c",
   "metadata": {
    "execution": {
     "iopub.execute_input": "2023-11-26T17:45:43.323306Z",
     "iopub.status.busy": "2023-11-26T17:45:43.322537Z",
     "iopub.status.idle": "2023-11-26T17:48:22.219820Z",
     "shell.execute_reply": "2023-11-26T17:48:22.217721Z"
    },
    "papermill": {
     "duration": 158.94077,
     "end_time": "2023-11-26T17:48:22.225587",
     "exception": false,
     "start_time": "2023-11-26T17:45:43.284817",
     "status": "completed"
    },
    "tags": []
   },
   "outputs": [],
   "source": [
    "y_testfrfcf=rfcf.predict(testf)\n",
    "y_testfxgf=xgf.predict(testf)\n",
    "y_testflgbmf=lgbmf.predict(testf)\n",
    "y_testfdtcf=dtcf.predict(testf)\n",
    "y_testflrcf=lrcf.predict(testf)"
   ]
  },
  {
   "cell_type": "markdown",
   "id": "f48584c8",
   "metadata": {
    "papermill": {
     "duration": 0.044227,
     "end_time": "2023-11-26T17:48:22.350972",
     "exception": false,
     "start_time": "2023-11-26T17:48:22.306745",
     "status": "completed"
    },
    "tags": []
   },
   "source": [
    "<a id = \"8\"></a>\n",
    "<h1 style=\"background-color:#0F0F0F;font-family:newtimeroman;font-size:350%;text-align:center;border-radius: 15px 50px;color:#F0F0F0\">Submissions</h1>"
   ]
  },
  {
   "cell_type": "markdown",
   "id": "3f049ab0",
   "metadata": {
    "papermill": {
     "duration": 0.035247,
     "end_time": "2023-11-26T17:48:22.421696",
     "exception": false,
     "start_time": "2023-11-26T17:48:22.386449",
     "status": "completed"
    },
    "tags": []
   },
   "source": [
    "Creating submission DataFrames for each model and saving predictions in CSV files "
   ]
  },
  {
   "cell_type": "code",
   "execution_count": 47,
   "id": "fdc1aeca",
   "metadata": {
    "execution": {
     "iopub.execute_input": "2023-11-26T17:48:22.494519Z",
     "iopub.status.busy": "2023-11-26T17:48:22.493991Z",
     "iopub.status.idle": "2023-11-26T17:48:28.880846Z",
     "shell.execute_reply": "2023-11-26T17:48:28.879261Z"
    },
    "papermill": {
     "duration": 6.426998,
     "end_time": "2023-11-26T17:48:28.884162",
     "exception": false,
     "start_time": "2023-11-26T17:48:22.457164",
     "status": "completed"
    },
    "tags": []
   },
   "outputs": [],
   "source": [
    "submissionrfcf=pd.DataFrame(data={'id': range(1, len(testf)+1), 'is_fraud': y_testfrfcf})\n",
    "submissionrfcf.to_csv('rfc.csv', index=False)#index=false means not including row numbers in the CSV file.\n",
    "submissionxgf=pd.DataFrame(data={'id': range(1, len(testf)+1), 'is_fraud': y_testfxgf})\n",
    "submissionxgf.to_csv('xg.csv', index=False)\n",
    "submissionlgbmf=pd.DataFrame(data={'id': range(1, len(testf)+1), 'is_fraud': y_testflgbmf})\n",
    "submissionlgbmf.to_csv('lgbm.csv', index=False)\n",
    "submissiondtcf=pd.DataFrame(data={'id': range(1, len(testf)+1), 'is_fraud': y_testfdtcf})\n",
    "submissiondtcf.to_csv('dtc.csv', index=False)\n",
    "submissionlrf=pd.DataFrame(data={'id': range(1, len(testf)+1), 'is_fraud': y_testflrcf})\n",
    "submissionlrf.to_csv('lr.csv', index=False)"
   ]
  }
 ],
 "metadata": {
  "kaggle": {
   "accelerator": "none",
   "dataSources": [
    {
     "databundleVersionId": 6872631,
     "sourceId": 63054,
     "sourceType": "competition"
    }
   ],
   "dockerImageVersionId": 30587,
   "isGpuEnabled": false,
   "isInternetEnabled": true,
   "language": "python",
   "sourceType": "notebook"
  },
  "kernelspec": {
   "display_name": "Python 3",
   "language": "python",
   "name": "python3"
  },
  "language_info": {
   "codemirror_mode": {
    "name": "ipython",
    "version": 3
   },
   "file_extension": ".py",
   "mimetype": "text/x-python",
   "name": "python",
   "nbconvert_exporter": "python",
   "pygments_lexer": "ipython3",
   "version": "3.10.12"
  },
  "papermill": {
   "default_parameters": {},
   "duration": 11713.727614,
   "end_time": "2023-11-26T17:48:31.279654",
   "environment_variables": {},
   "exception": null,
   "input_path": "__notebook__.ipynb",
   "output_path": "__notebook__.ipynb",
   "parameters": {},
   "start_time": "2023-11-26T14:33:17.552040",
   "version": "2.4.0"
  }
 },
 "nbformat": 4,
 "nbformat_minor": 5
}
